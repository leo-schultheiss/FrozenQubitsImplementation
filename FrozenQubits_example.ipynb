{
 "cells": [
  {
   "attachments": {},
   "cell_type": "markdown",
   "id": "ef324137",
   "metadata": {},
   "source": [
    "# FrozenQubits:   Boosting Fidelity of QAOA by Skipping Hotspot Nodes\n",
    "\n",
    "FrozenQubits is a novel quantum divide-and-conquer approach that leverages the insight about most real-world applications having power-law graphs to boost the fidelity of QAOA applications. \n",
    "In FrozenQubits, we freeze some of the nodes with the highest degree of connectivity. \n",
    "This drops the edges connected to these nodes resulting in a circuit with fewer CNOTs and lower depth. \n",
    "\n",
    "To read the full paper, please visit: (https://arxiv.org/abs/2210.17037)(https://arxiv.org/abs/2210.17037)\n",
    "\n",
    "This tutorial includes some example codes showing how to apply FrozenQubits to QAOA applications and compare its results with the standard QAOA. \n"
   ]
  },
  {
   "attachments": {},
   "cell_type": "markdown",
   "id": "a8be7afb",
   "metadata": {},
   "source": [
    "## Requirements\n",
    "\n",
    "The following packages are needed to run the sample codes:\n",
    "\n",
    "- numpy (pip install numpy)\n",
    "- qiskit (pip install qiskit)\n",
    "- networkx (pip install networkx)\n",
    "- dimod (pip install dimod)"
   ]
  },
  {
   "cell_type": "code",
   "execution_count": 3,
   "id": "a5dbdc6b",
   "metadata": {
    "ExecuteTime": {
     "start_time": "2023-06-21T10:54:31.678400Z",
     "end_time": "2023-06-21T10:54:33.703405Z"
    }
   },
   "outputs": [],
   "source": [
    "from helper import *\n",
    "from helper_qaoa import *\n",
    "from  helper_FrozenQubits import *\n",
    "\n",
    "import qiskit\n",
    "from qiskit import *"
   ]
  },
  {
   "attachments": {},
   "cell_type": "markdown",
   "id": "9142fc5e",
   "metadata": {},
   "source": [
    "## Specifying Benchmark Problem\n",
    "\n",
    "This repository includes three types of problems:\n",
    "- SK: Sherrington—kirkpatrick (SK) model or fully-connected graphs \n",
    "- k_regular: 3-Regular graphs\n",
    "- ba: Barabasi—Albert (BA) or power-law graphs \n",
    "\n",
    "\n",
    "In addition to the benchmark type, we should specify the number of qubits (or nodes of the problem graph), denoted by $n \\in \\{4, 5, \\dots, 24\\}$ and the value of $k.$\n",
    "- In \"k_regular\" graphs, $k$ specifies the degree of the nodes, and only $k=3$ examples are available in this repository. \n",
    "- In BA graphs, $k$ specifies the preferential attachment $(d_{BA}),$ and $k=1,2$ and 3 benchmarks are included in this repository.\n"
   ]
  },
  {
   "cell_type": "code",
   "execution_count": 2,
   "id": "0bc40bff",
   "metadata": {
    "ExecuteTime": {
     "start_time": "2023-06-20T17:48:42.552826Z",
     "end_time": "2023-06-20T17:48:42.556970Z"
    }
   },
   "outputs": [
    {
     "name": "stdout",
     "output_type": "stream",
     "text": [
      "Benchmark: ba graph with 8 nodes\n"
     ]
    }
   ],
   "source": [
    "benchmark_type=['sk', 'k_regular', 'ba'][2]\n",
    "\n",
    "# Number of nodes/qubits\n",
    "n=8\n",
    "print(f'Benchmark: {benchmark_type} graph with {n} nodes')\n",
    "\n",
    "k=1\n",
    "# in BA graphs, k=1,2 or 3\n",
    "#for k_regular, only k=3 is available \n",
    "# Also, for k-Regular graphs, 1<k<n and k*n must be an even number\n",
    "\n",
    "# We only have data for P=1 layers of QAOA \n",
    "num_layers=1\n",
    "benchmark_id=\"\"\n",
    "\n",
    "try:\n",
    "    benchmark_id=get_benchmark_id(benchmark_type, n=n, k=k)+f'^P={num_layers}'\n",
    "except:\n",
    "    pass\n",
    "    # in k-regular graphs, 1<k<n, and n*k ust be an even number"
   ]
  },
  {
   "cell_type": "code",
   "execution_count": 2,
   "id": "e1c52c3b",
   "metadata": {
    "ExecuteTime": {
     "start_time": "2023-06-20T17:48:42.562424Z",
     "end_time": "2023-06-20T17:48:42.565247Z"
    }
   },
   "outputs": [],
   "source": []
  },
  {
   "attachments": {},
   "cell_type": "markdown",
   "id": "b13bb45f",
   "metadata": {},
   "source": [
    "## Loading Benchmark Problem"
   ]
  },
  {
   "cell_type": "code",
   "execution_count": 3,
   "id": "44d20758",
   "metadata": {},
   "outputs": [
    {
     "ename": "FileNotFoundError",
     "evalue": "[Errno 2] No such file or directory: 'experiments/qaoa/ba/gridsearch_100/ideal/1_8_1^P=1.pkl'",
     "output_type": "error",
     "traceback": [
      "\u001B[0;31m---------------------------------------------------------------------------\u001B[0m",
      "\u001B[0;31mFileNotFoundError\u001B[0m                         Traceback (most recent call last)",
      "Cell \u001B[0;32mIn[3], line 6\u001B[0m\n\u001B[1;32m      4\u001B[0m \u001B[38;5;66;03m# Results for the ideal simulator on in the \"ideal\" subfolder \u001B[39;00m\n\u001B[1;32m      5\u001B[0m qaoa_ideal_filename\u001B[38;5;241m=\u001B[39m\u001B[38;5;124mf\u001B[39m\u001B[38;5;124m'\u001B[39m\u001B[38;5;132;01m{\u001B[39;00mqaoa_path\u001B[38;5;132;01m}\u001B[39;00m\u001B[38;5;124mideal/\u001B[39m\u001B[38;5;132;01m{\u001B[39;00mbenchmark_id\u001B[38;5;132;01m}\u001B[39;00m\u001B[38;5;124m.pkl\u001B[39m\u001B[38;5;124m'\u001B[39m\n\u001B[0;32m----> 6\u001B[0m qaoa_ideal_obj\u001B[38;5;241m=\u001B[39m\u001B[43mload_pickle\u001B[49m\u001B[43m(\u001B[49m\u001B[43mqaoa_ideal_filename\u001B[49m\u001B[43m)\u001B[49m\n\u001B[1;32m      7\u001B[0m \u001B[38;5;66;03m#qaoa_ideal_obj is a dict object \u001B[39;00m\n\u001B[1;32m      8\u001B[0m \n\u001B[1;32m      9\u001B[0m \u001B[38;5;66;03m# all benchmark files include h, J and offset that defines the Ising Hamiltonian \u001B[39;00m\n\u001B[1;32m     10\u001B[0m \u001B[38;5;66;03m# h denotes linear coefficients\u001B[39;00m\n\u001B[1;32m     11\u001B[0m \u001B[38;5;66;03m# J denotes quadratic coefficients\u001B[39;00m\n\u001B[1;32m     12\u001B[0m \u001B[38;5;66;03m# offset is the constant bias\u001B[39;00m\n\u001B[1;32m     13\u001B[0m h\u001B[38;5;241m=\u001B[39mqaoa_ideal_obj[\u001B[38;5;124m'\u001B[39m\u001B[38;5;124mh\u001B[39m\u001B[38;5;124m'\u001B[39m]\n",
      "File \u001B[0;32m~/Downloads/FrozenQubits/FrozenQubits_sourcecode/helper.py:20\u001B[0m, in \u001B[0;36mload_pickle\u001B[0;34m(filename)\u001B[0m\n\u001B[1;32m     19\u001B[0m \u001B[38;5;28;01mdef\u001B[39;00m \u001B[38;5;21mload_pickle\u001B[39m(filename):\n\u001B[0;32m---> 20\u001B[0m     \u001B[38;5;28;01mwith\u001B[39;00m \u001B[38;5;28;43mopen\u001B[39;49m\u001B[43m(\u001B[49m\u001B[43mfilename\u001B[49m\u001B[43m,\u001B[49m\u001B[43m \u001B[49m\u001B[38;5;124;43m'\u001B[39;49m\u001B[38;5;124;43mrb\u001B[39;49m\u001B[38;5;124;43m'\u001B[39;49m\u001B[43m)\u001B[49m \u001B[38;5;28;01mas\u001B[39;00m pkl:\n\u001B[1;32m     21\u001B[0m         \u001B[38;5;28;01mreturn\u001B[39;00m pickle\u001B[38;5;241m.\u001B[39mload(pkl)\n",
      "\u001B[0;31mFileNotFoundError\u001B[0m: [Errno 2] No such file or directory: 'experiments/qaoa/ba/gridsearch_100/ideal/1_8_1^P=1.pkl'"
     ]
    }
   ],
   "source": [
    "# baseline files are in the following folder:\n",
    "qaoa_path=f'experiments/qaoa/{benchmark_type}/gridsearch_100/'\n",
    "\n",
    "# Results for the ideal simulator on in the \"ideal\" subfolder \n",
    "qaoa_ideal_filename=f'{qaoa_path}ideal/{benchmark_id}.pkl'\n",
    "qaoa_ideal_obj=load_pickle(qaoa_ideal_filename)\n",
    "#qaoa_ideal_obj is a dict object \n",
    "\n",
    "# all benchmark files include h, J and offset that defines the Ising Hamiltonian \n",
    "# h denotes linear coefficients\n",
    "# J denotes quadratic coefficients\n",
    "# offset is the constant bias\n",
    "h=qaoa_ideal_obj['h']\n",
    "J=qaoa_ideal_obj['J']\n",
    "offset=qaoa_ideal_obj['offset']\n",
    "\n",
    "print(f'{benchmark_type} benchmark with {n} nodes loaded')\n",
    "print('h=', h)\n",
    "print('J=', J)\n",
    "print('offset=', offset)\n",
    "\n",
    "# for each benchmark, we have found the optimum solution(s) by Brute force approach\n",
    "cost_best=qaoa_ideal_obj['cost_best']\n",
    "optimum_solutions=qaoa_ideal_obj['optimum_solutions']\n",
    "\n",
    "print('--------')\n",
    "print('Minimum cost value=', cost_best)\n",
    "print('Optimum solutions:', optimum_solutions)"
   ]
  },
  {
   "attachments": {},
   "cell_type": "markdown",
   "id": "e023c25d",
   "metadata": {},
   "source": [
    "## Creating Parametric QAOA Circuit "
   ]
  },
  {
   "cell_type": "code",
   "execution_count": null,
   "id": "71c520bd",
   "metadata": {},
   "outputs": [],
   "source": [
    "# the \"helper_qaoa.py\" (which has been published with this tutorial) \n",
    "# includes \"pqc_QAOA\" module that creates a parametric QAOA circuit \n",
    "# for an Ising Hamiltonian, defined with h and J\n",
    "_out=pqc_QAOA(J=J, h=h, num_layers=num_layers)\n",
    "qaoa_circ=_out['qc']\n",
    "\n",
    "print(f'QAOA circuit with P={num_layers} layers created')\n",
    "print('Number of qubits:', qaoa_circ.num_qubits)\n",
    "print('Depth:', qaoa_circ.depth())\n",
    "print('CNOT count:', qaoa_circ.count_ops()['cx'])"
   ]
  },
  {
   "cell_type": "code",
   "execution_count": null,
   "id": "6ea2d8ee",
   "metadata": {},
   "outputs": [],
   "source": [
    "#and here is the circuit layout \n",
    "print(qaoa_circ)"
   ]
  },
  {
   "attachments": {},
   "cell_type": "markdown",
   "id": "a1567732",
   "metadata": {},
   "source": [
    "## Training Circuit Parameters $(\\gamma$ and $\\beta)$"
   ]
  },
  {
   "cell_type": "code",
   "execution_count": null,
   "id": "e78ecb6e",
   "metadata": {},
   "outputs": [],
   "source": [
    "# We must use a classical optimizer to find the optimum values of circuit parameters, gamma and beta \n",
    "\n",
    "# We already have searched on the grid of 100x100 to find the optimum parameter values\n",
    "x_best=qaoa_ideal_obj['x_best']\n",
    "_gamma=x_best[0]\n",
    "_beta=x_best[1]\n",
    "print('Optimum circuit parameters (num_layers=1):')\n",
    "print('\\t γ=', _gamma)\n",
    "print('\\t β=', _beta)\n",
    "\n",
    "EV_best=qaoa_ideal_obj['EV_best']\n",
    "print('EV_best (ideal)=', EV_best)\n",
    "print('Approximation Ratio (ideal)=', EV_best/cost_best)"
   ]
  },
  {
   "attachments": {},
   "cell_type": "markdown",
   "id": "d2a5f441",
   "metadata": {},
   "source": [
    "## Running the QAOA Circuit on a Real Quantum Hardware"
   ]
  },
  {
   "cell_type": "code",
   "execution_count": null,
   "id": "816e1c74",
   "metadata": {},
   "outputs": [],
   "source": [
    "# Now, we can replace circuit parameters with optimum values of gamma and beta\n",
    "# compile it to a real quantum computer,\n",
    "# and run it on a real device\n",
    "qaoa_circ_binded=bind_QAOA(qaoa_circ, _out['params'], gamma=_gamma, beta=_beta)                        \n",
    "\n",
    "# we already have provided the qasm file of the circuit with optimum values\n",
    "qaoa_ideal_qasm_filename=f'{qaoa_path}ideal/{benchmark_id}.qasm'\n",
    "circ=qiskit.circuit.QuantumCircuit.from_qasm_file(qaoa_ideal_qasm_filename)\n",
    "\n",
    "# For all benchmarks, we have run the circuit with optimum parameters \n",
    "# on eight different quantum computers by IBM\n",
    "machine_name='ibmq_montreal'\n",
    "# results from running the circuit with optimum parameter values are in the folders\n",
    "# with IBM machine names\n",
    "# results for 8 different IBM machines are available for all benchmarks\n",
    "\n",
    "qaoa_real_filename=f'{qaoa_path}{machine_name}/{benchmark_id}.pkl'\n",
    "print(f'qaoa real file name: {qaoa_real_filename}')\n",
    "qaoa_real_obj=load_pickle(qaoa_real_filename)\n",
    "# qaoa_real_obj has a structure that is similar to qaoa_ideal_obj\n",
    "\n",
    "EV_real_best=qaoa_real_obj['EV_best']\n",
    "print(f'EV_best ({machine_name})=', EV_real_best)\n",
    "print(f'Approximation Ratio ({machine_name}) =', EV_real_best/cost_best)"
   ]
  },
  {
   "attachments": {},
   "cell_type": "markdown",
   "id": "28d07d8d",
   "metadata": {},
   "source": [
    "## Applying FrozenQubits\n",
    "\n",
    "In FrozenQubits, we must specify the number of qubits to freeze, denoted by $m.$\n",
    "We have results for $m=1$ and 2."
   ]
  },
  {
   "attachments": {},
   "cell_type": "markdown",
   "id": "25428c50",
   "metadata": {},
   "source": [
    "## Identifying and Removing Hotspot nodes"
   ]
  },
  {
   "cell_type": "code",
   "execution_count": null,
   "id": "ca39b2e9",
   "metadata": {},
   "outputs": [],
   "source": [
    "m=1\n",
    "# number of qubits to freeze\n",
    "# results for m=1 and 2 have been included in this repository \n",
    "\n",
    "G=nx.Graph()\n",
    "G.add_edges_from(list(J.keys()))\n",
    "G.add_nodes_from(list(h.keys()))\n",
    "print('Edges: ', G.edges)\n",
    "\n",
    "list_of_halting_qubits=[]\n",
    "for i in range(m):\n",
    "    G, list_of_halting_qubits=drop_hotspot_node(G, list_of_fixed_vars=list_of_halting_qubits, verbosity=0)                                                        \n",
    "\n",
    "print('Nodes to drop:', list_of_halting_qubits)"
   ]
  },
  {
   "attachments": {},
   "cell_type": "markdown",
   "id": "67707262",
   "metadata": {},
   "source": [
    "## Freeze Qubits and Create Sub-Problems\n",
    "\n",
    "Freezing $m$ qubits will result in $2^m$ sub-problems.\n",
    "\n",
    "Note: Each sub-problem has its own $h$, $J$ and offset"
   ]
  },
  {
   "cell_type": "code",
   "execution_count": null,
   "id": "ff483b0a",
   "metadata": {},
   "outputs": [],
   "source": [
    "sub_Ising_list=halt_qubits(J=J, h=h, offset=offset, halting_list=list_of_halting_qubits)                \n",
    "\n",
    "print(f'For m={m}, {len(sub_Ising_list)} sub-problems created')\n",
    "\n"
   ]
  },
  {
   "cell_type": "code",
   "execution_count": null,
   "id": "3c34639e",
   "metadata": {},
   "outputs": [],
   "source": [
    "# exploring the sub-problems \n",
    "\n",
    "for sub_index in range(len(sub_Ising_list)):\n",
    "    print('------Sub-problem number:', sub_index )\n",
    "    sub_problem=sub_Ising_list[sub_index ]    \n",
    "    print('h:', sub_problem['h'])\n",
    "    print('J', sub_problem['J'])\n",
    "    print('offset:', sub_problem['offset'])\n",
    "    # most quantum devices do not accept arbitrary qubit numbers, \n",
    "    # so we encode node names \n",
    "    print('encoding node names:', sub_problem['encoding'])\n",
    "    print('FrozenQubits values:', sub_problem['halting_vals'])\n",
    "    print()"
   ]
  },
  {
   "attachments": {},
   "cell_type": "markdown",
   "id": "fefe8e5c",
   "metadata": {},
   "source": [
    "## Creating QAOA Circuits for Sub-Problems"
   ]
  },
  {
   "cell_type": "code",
   "execution_count": null,
   "id": "48b4ed9a",
   "metadata": {},
   "outputs": [],
   "source": [
    "# For each sub-problem, we can create a QAOA circuit \n",
    "#  Note: each sub-problem includes its own h, J and offset\n",
    "\n",
    "#Example: Creating QAOA circuit \n",
    "# for the first sub-problem\n",
    "sub_problem=sub_Ising_list[0]    \n",
    "_out_i=pqc_QAOA(J=sub_problem['J'], h=sub_problem['h'], num_layers=num_layers)\n",
    "qc_i=_out_i['qc']\n",
    "\n",
    "print('QAOA circuit for sub-problem created')\n",
    "print('Number of Qubits:', qc_i.num_qubits)\n",
    "print('Circuit Depth:', qc_i.depth())\n",
    "print('CNOT Count:', qc_i.count_ops().get('cx', []))"
   ]
  },
  {
   "attachments": {},
   "cell_type": "markdown",
   "id": "cb7d6892",
   "metadata": {},
   "source": [
    "## Training Sub-QAOA Circuitsof "
   ]
  },
  {
   "cell_type": "code",
   "execution_count": null,
   "id": "56981ba0",
   "metadata": {},
   "outputs": [],
   "source": [
    "# we have included results of training all sub-problems in this repository \n",
    "\n",
    "# FrozenQubits files are in the following folder:\n",
    "FQ_path=f'experiments/frozenqubits_full/{benchmark_type}/gridsearch_100/'\n",
    "\n",
    "sub_index=0\n",
    "# sub_index can be between 0 to 2^m -1\n",
    "FQ_id=get_benchmark_id(benchmark_type, n=n, k=k)+f'^M={m}_{sub_index}^P={num_layers}'\n",
    "\n",
    "# Results for the ideal simulator is in in the \"ideal\" subfolder \n",
    "FQ_ideal_filename_i=f'{FQ_path}ideal/{FQ_id}.pkl'\n",
    "FQ_ideal_obj_i=load_pickle(FQ_ideal_filename_i)\n",
    "#FQ_ideal_obj is a dict object \n",
    "\n",
    "print(f'm={m} | sub-index={sub_index}')\n",
    "print(f'EV_best (ideal)=', FQ_ideal_obj_i['EV_best'])\n",
    "print(f'Approximation Ratio (ideal)= ', FQ_ideal_obj_i['EV_best']/FQ_ideal_obj_i['cost_best'])"
   ]
  },
  {
   "attachments": {},
   "cell_type": "markdown",
   "id": "eb797606",
   "metadata": {},
   "source": [
    "## Running Sub-Problems on a Real Quantum Hardware"
   ]
  },
  {
   "cell_type": "code",
   "execution_count": null,
   "id": "c6de38fc",
   "metadata": {},
   "outputs": [],
   "source": [
    "# Results from running all sub-problems on eight different IBM machines are also included \n",
    "\n",
    "FQ_real_filename_i=f'{FQ_path}{machine_name}/{FQ_id}.pkl'\n",
    "FQ_real_obj_i=load_pickle(FQ_real_filename_i)\n",
    "#FQ_real_obj_iis a dict object \n",
    "\n",
    "print('Machine:', machine_name)\n",
    "print(f'EV_best ({machine_name})=', FQ_real_obj_i['EV_best'])\n",
    "print(f'Approximation Ratio ({machine_name})=', FQ_real_obj_i['EV_best']/FQ_real_obj_i['cost_best'])"
   ]
  },
  {
   "attachments": {},
   "cell_type": "markdown",
   "id": "16132cb0",
   "metadata": {},
   "source": [
    "## Comparing Results"
   ]
  },
  {
   "cell_type": "code",
   "execution_count": null,
   "id": "a8043f83",
   "metadata": {},
   "outputs": [],
   "source": [
    "print('Benchmark Type:', benchmark_type)\n",
    "print('Number of problem variables:', n)\n",
    "print(f'k={k} (for SK model, k is ignored)')\n",
    "\n",
    "print()\n",
    "print('Baseline (standard QAOA)')\n",
    "print(f'\\t EV (ideal):', qaoa_ideal_obj['EV_best'])\n",
    "print(f'\\t EV ({machine_name}):', qaoa_real_obj['EV_best'])\n",
    "print(f'\\t AR (ideal):', qaoa_ideal_obj['EV_best']/qaoa_ideal_obj['cost_best'])\n",
    "print(f'\\t AR ({machine_name}):', qaoa_real_obj['EV_best']/qaoa_ideal_obj['cost_best'])\n",
    "\n",
    "print('--------------------------------')\n",
    "print(f'FrozenQubits (m={m})')\n",
    "for sub_index in range(2**m):\n",
    "    print(f'  sub-problem ', sub_index)\n",
    "    FQ_id=get_benchmark_id(benchmark_type, n=n, k=k)+f'^M={m}_{sub_index}^P={num_layers}'\n",
    "    FQ_ideal_filename_i=f'{FQ_path}ideal/{FQ_id}.pkl'\n",
    "    FQ_ideal_obj_i=load_pickle(FQ_ideal_filename_i)\n",
    "    FQ_real_filename_i=f'{FQ_path}{machine_name}/{FQ_id}.pkl'\n",
    "    FQ_real_obj_i=load_pickle(FQ_real_filename_i)\n",
    "    print(f'\\t EV (ideal):', FQ_ideal_obj_i['EV_best'])\n",
    "    print(f'\\t EV ({machine_name}):', FQ_real_obj_i['EV_best'])\n",
    "    print(f'\\t AR (ideal):', FQ_ideal_obj_i['EV_best']/FQ_ideal_obj_i['cost_best'])\n",
    "    print(f'\\t AR ({machine_name}):', FQ_real_obj_i['EV_best']/FQ_real_obj_i['cost_best'])\n",
    "    "
   ]
  },
  {
   "cell_type": "code",
   "execution_count": null,
   "metadata": {
    "ExecuteTime": {
     "start_time": "2023-06-20T16:46:38.137345Z",
     "end_time": "2023-06-20T16:46:38.261476Z"
    }
   },
   "outputs": [],
   "source": [
    "h = {0: 0.0, 1: 0.0, 3: 0.0, 2: 0.0, 4: 0.0, 5: 0.0, 6: 0.0, 7: 0.0}\n",
    "J = {(2, 0): 1.0, (6, 3): -1.0}\n",
    "G=nx.Graph()\n",
    "G.add_edges_from(list(J.keys()))\n",
    "G.add_nodes_from(list(h.keys()))\n",
    "print(G)\n",
    "\n",
    "_out=pqc_QAOA(J=J, h=h, num_layers=1)\n",
    "qaoa_circ=_out['qc']\n",
    "\n",
    "print(qaoa_circ)"
   ]
  },
  {
   "cell_type": "code",
   "execution_count": null,
   "outputs": [],
   "source": [],
   "metadata": {
    "collapsed": false,
    "ExecuteTime": {
     "start_time": "2023-06-20T16:46:47.735790Z",
     "end_time": "2023-06-20T16:46:47.845681Z"
    }
   }
  }
 ],
 "metadata": {
  "kernelspec": {
   "display_name": "Python 3 (ipykernel)",
   "language": "python",
   "name": "python3"
  },
  "language_info": {
   "codemirror_mode": {
    "name": "ipython",
    "version": 3
   },
   "file_extension": ".py",
   "mimetype": "text/x-python",
   "name": "python",
   "nbconvert_exporter": "python",
   "pygments_lexer": "ipython3",
   "version": "3.9.2"
  },
  "vscode": {
   "interpreter": {
    "hash": "09d241a72caf352d4b051b510cdbcbd57841055e488ebb3a05701410d0685b3c"
   }
  }
 },
 "nbformat": 4,
 "nbformat_minor": 5
}

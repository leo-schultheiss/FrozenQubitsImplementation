{
 "cells": [
  {
   "attachments": {},
   "cell_type": "markdown",
   "id": "ef324137",
   "metadata": {},
   "source": [
    "# FrozenQubits:   Boosting Fidelity of QAOA by Skipping Hotspot Nodes\n",
    "\n",
    "FrozenQubits is a novel quantum divide-and-conquer approach that leverages the insight about most real-world applications having power-law graphs to boost the fidelity of QAOA applications. \n",
    "In FrozenQubits, we freeze some of the nodes with the highest degree of connectivity. \n",
    "This drops the edges connected to these nodes resulting in a circuit with fewer CNOTs and lower depth. \n",
    "\n",
    "To read the full paper, please visit: (https://arxiv.org/abs/2210.17037)(https://arxiv.org/abs/2210.17037)\n",
    "\n",
    "This tutorial includes some example codes showing how to apply FrozenQubits to QAOA applications and compare its results with the standard QAOA. \n"
   ]
  },
  {
   "attachments": {},
   "cell_type": "markdown",
   "id": "a8be7afb",
   "metadata": {},
   "source": [
    "## Requirements\n",
    "\n",
    "The following packages are needed to run the sample codes:\n",
    "\n",
    "- numpy (pip install numpy)\n",
    "- qiskit (pip install qiskit)\n",
    "- networkx (pip install networkx)\n",
    "- dimod (pip install dimod)"
   ]
  },
  {
   "cell_type": "code",
   "execution_count": 5,
   "id": "a5dbdc6b",
   "metadata": {
    "ExecuteTime": {
     "end_time": "2023-06-01T13:54:25.582168Z",
     "start_time": "2023-06-01T13:54:24.633216Z"
    }
   },
   "outputs": [],
   "source": [
    "from helper import *\n",
    "from helper_qaoa import *\n",
    "from  helper_FrozenQubits import *\n",
    "\n",
    "import qiskit\n",
    "from qiskit import *"
   ]
  },
  {
   "attachments": {},
   "cell_type": "markdown",
   "id": "9142fc5e",
   "metadata": {},
   "source": [
    "## Specifying Benchmark Problem\n",
    "\n",
    "This repository includes three types of problems:\n",
    "- SK: Sherrington—kirkpatrick (SK) model or fully-connected graphs \n",
    "- k_regular: 3-Regular graphs\n",
    "- ba: Barabasi—Albert (BA) or power-law graphs \n",
    "\n",
    "\n",
    "In addition to the benchmark type, we should specify the number of qubits (or nodes of the problem graph), denoted by $n \\in \\{4, 5, \\dots, 24\\}$ and the value of $k.$\n",
    "- In \"k_regular\" graphs, $k$ specifies the degree of the nodes, and only $k=3$ examples are available in this repository. \n",
    "- In BA graphs, $k$ specifies the preferential attachment $(d_{BA}),$ and $k=1,2$ and 3 benchmarks are included in this repository.\n"
   ]
  },
  {
   "cell_type": "code",
   "execution_count": 18,
   "id": "0bc40bff",
   "metadata": {},
   "outputs": [
    {
     "name": "stdout",
     "output_type": "stream",
     "text": [
      "Benchmark: ba graph with 8 nodes\n"
     ]
    }
   ],
   "source": [
    "benchmark_type=['sk', 'k_regular', 'ba'][2]\n",
    "\n",
    "# Number of nodes/qubits\n",
    "n=8\n",
    "print(f'Benchmark: {benchmark_type} graph with {n} nodes')\n",
    "\n",
    "k=1\n",
    "# in BA graphs, k=1,2 or 3\n",
    "#for k_regular, only k=3 is available \n",
    "# Also, for k-Regular graphs, 1<k<n and k*n must be an even number\n",
    "\n",
    "# We only have data for P=1 layers of QAOA \n",
    "num_layers=1\n",
    "benchmark_id=\"\"\n",
    "\n",
    "try:\n",
    "    benchmark_id=get_benchmark_id(benchmark_type, n=n, k=k)+f'^P={num_layers}'\n",
    "except:\n",
    "    pass\n",
    "    # in k-regular graphs, 1<k<n, and n*k ust be an even number"
   ]
  },
  {
   "cell_type": "code",
   "execution_count": null,
   "id": "e1c52c3b",
   "metadata": {},
   "outputs": [],
   "source": []
  },
  {
   "attachments": {},
   "cell_type": "markdown",
   "id": "b13bb45f",
   "metadata": {},
   "source": [
    "## Loading Benchmark Problem"
   ]
  },
  {
   "cell_type": "code",
   "execution_count": 35,
   "id": "44d20758",
   "metadata": {},
   "outputs": [
    {
     "name": "stdout",
     "output_type": "stream",
     "text": [
      "ba benchmark with 8 nodes loaded\n",
      "h= {0: 0.0, 1: 0.0, 3: 0.0, 2: 0.0, 4: 0.0, 5: 0.0, 6: 0.0, 7: 0.0}\n",
      "J= {(0, 1): -1, (0, 3): 1, (1, 2): 1, (1, 4): 1, (1, 5): -1, (1, 6): 1, (4, 7): -1}\n",
      "offset= 0\n",
      "--------\n",
      "Minimum cost value= -7.0\n",
      "Optimum solutions: ['00100011', '11011100']\n"
     ]
    }
   ],
   "source": [
    "# baseline files are in the following folder:\n",
    "qaoa_path=f'experiments/qaoa/{benchmark_type}/gridsearch_100/'\n",
    "\n",
    "# Results for the ideal simulator on in the \"ideal\" subfolder \n",
    "qaoa_ideal_filename=f'{qaoa_path}ideal/{benchmark_id}.pkl'\n",
    "qaoa_ideal_obj=load_pickle(qaoa_ideal_filename)\n",
    "#qaoa_ideal_obj is a dict object \n",
    "\n",
    "# all benchmark files include h, J and offset that defines the Ising Hamiltonian \n",
    "# h denotes linear coefficients\n",
    "# J denotes quadratic coefficients\n",
    "# offset is the constant bias\n",
    "h=qaoa_ideal_obj['h']\n",
    "J=qaoa_ideal_obj['J']\n",
    "offset=qaoa_ideal_obj['offset']\n",
    "\n",
    "print(f'{benchmark_type} benchmark with {n} nodes loaded')\n",
    "print('h=', h)\n",
    "print('J=', J)\n",
    "print('offset=', offset)\n",
    "\n",
    "# for each benchmark, we have found the optimum solution(s) by Brute force approach\n",
    "cost_best=qaoa_ideal_obj['cost_best']\n",
    "optimum_solutions=qaoa_ideal_obj['optimum_solutions']\n",
    "\n",
    "print('--------')\n",
    "print('Minimum cost value=', cost_best)\n",
    "print('Optimum solutions:', optimum_solutions)"
   ]
  },
  {
   "attachments": {},
   "cell_type": "markdown",
   "id": "e023c25d",
   "metadata": {},
   "source": [
    "## Creating Parametric QAOA Circuit "
   ]
  },
  {
   "cell_type": "code",
   "execution_count": 20,
   "id": "71c520bd",
   "metadata": {},
   "outputs": [
    {
     "name": "stdout",
     "output_type": "stream",
     "text": [
      "QAOA circuit with P=1 layers created\n",
      "Number of qubits: 8\n",
      "Depth: 18\n",
      "CNOT count: 14\n"
     ]
    }
   ],
   "source": [
    "# the \"helper_qaoa.py\" (which has been published with this tutorial) \n",
    "# includes \"pqc_QAOA\" module that creates a parametric QAOA circuit \n",
    "# for an Ising Hamiltonian, defined with h and J\n",
    "_out=pqc_QAOA(J=J, h=h, num_layers=num_layers)\n",
    "qaoa_circ=_out['qc']\n",
    "\n",
    "print(f'QAOA circuit with P={num_layers} layers created')\n",
    "print('Number of qubits:', qaoa_circ.num_qubits)\n",
    "print('Depth:', qaoa_circ.depth())\n",
    "print('CNOT count:', qaoa_circ.count_ops()['cx'])"
   ]
  },
  {
   "cell_type": "code",
   "execution_count": 21,
   "id": "6ea2d8ee",
   "metadata": {},
   "outputs": [
    {
     "name": "stdout",
     "output_type": "stream",
     "text": [
      "     ┌───┐                                                            »\n",
      "q_0: ┤ H ├──■──────────────────■────■──────────────────────────────■──»\n",
      "     ├───┤┌─┴─┐┌────────────┐┌─┴─┐  │                              │  »\n",
      "q_1: ┤ H ├┤ X ├┤ Rz(-2*g_1) ├┤ X ├──┼────────■─────────────────────┼──»\n",
      "     ├───┤└───┘└────────────┘└───┘  │      ┌─┴─┐    ┌───────────┐  │  »\n",
      "q_2: ┤ H ├──────────────────────────┼──────┤ X ├────┤ Rz(2*g_1) ├──┼──»\n",
      "     ├───┤                        ┌─┴─┐┌───┴───┴───┐└───────────┘┌─┴─┐»\n",
      "q_3: ┤ H ├────────────────────────┤ X ├┤ Rz(2*g_1) ├─────────────┤ X ├»\n",
      "     ├───┤                        └───┘└───────────┘             └───┘»\n",
      "q_4: ┤ H ├────────────────────────────────────────────────────────────»\n",
      "     ├───┤                                                            »\n",
      "q_5: ┤ H ├────────────────────────────────────────────────────────────»\n",
      "     ├───┤                                                            »\n",
      "q_6: ┤ H ├────────────────────────────────────────────────────────────»\n",
      "     ├───┤                                                            »\n",
      "q_7: ┤ H ├────────────────────────────────────────────────────────────»\n",
      "     └───┘                                                            »\n",
      "c: 8/═════════════════════════════════════════════════════════════════»\n",
      "                                                                      »\n",
      "«     ┌───────────┐                  ┌─┐                                   »\n",
      "«q_0: ┤ Rx(2*b_1) ├──────────────────┤M├───────────────────────────────────»\n",
      "«     └───────────┘                  └╥┘                                   »\n",
      "«q_1: ──────■────────■────────────────╫─────────■────■─────────────────────»\n",
      "«         ┌─┴─┐      │  ┌───────────┐ ║ ┌─┐     │    │                     »\n",
      "«q_2: ────┤ X ├──────┼──┤ Rx(2*b_1) ├─╫─┤M├─────┼────┼─────────────────────»\n",
      "«     ┌───┴───┴───┐  │  └───────────┘ ║ └╥┘┌─┐  │    │                     »\n",
      "«q_3: ┤ Rx(2*b_1) ├──┼────────────────╫──╫─┤M├──┼────┼─────────────────────»\n",
      "«     └───────────┘┌─┴─┐┌───────────┐ ║  ║ └╥┘┌─┴─┐  │                     »\n",
      "«q_4: ─────────────┤ X ├┤ Rz(2*g_1) ├─╫──╫──╫─┤ X ├──┼────■────────────────»\n",
      "«                  └───┘└───────────┘ ║  ║  ║ └───┘┌─┴─┐  │  ┌────────────┐»\n",
      "«q_5: ────────────────────────────────╫──╫──╫──────┤ X ├──┼──┤ Rz(-2*g_1) ├»\n",
      "«                                     ║  ║  ║      └───┘  │  └────────────┘»\n",
      "«q_6: ────────────────────────────────╫──╫──╫─────────────┼────────────────»\n",
      "«                                     ║  ║  ║           ┌─┴─┐┌────────────┐»\n",
      "«q_7: ────────────────────────────────╫──╫──╫───────────┤ X ├┤ Rz(-2*g_1) ├»\n",
      "«                                     ║  ║  ║           └───┘└────────────┘»\n",
      "«c: 8/════════════════════════════════╩══╩══╩══════════════════════════════»\n",
      "«                                     0  2  3                              »\n",
      "«                                                                       \n",
      "«q_0: ──────────────────────────────────────────────────────────────────\n",
      "«                                                    ┌───────────┐┌─┐   \n",
      "«q_1: ──■─────────────■───────────────────────────■──┤ Rx(2*b_1) ├┤M├───\n",
      "«       │             │                           │  └───────────┘└╥┘   \n",
      "«q_2: ──┼─────────────┼───────────────────────────┼────────────────╫────\n",
      "«       │             │                           │                ║    \n",
      "«q_3: ──┼─────────────┼───────────────────────────┼────────────────╫────\n",
      "«       │             │      ┌───────────┐┌─┐     │                ║    \n",
      "«q_4: ──┼────■────────┼──────┤ Rx(2*b_1) ├┤M├─────┼────────────────╫────\n",
      "«     ┌─┴─┐  │        │      ├───────────┤└╥┘┌─┐  │                ║    \n",
      "«q_5: ┤ X ├──┼────────┼──────┤ Rx(2*b_1) ├─╫─┤M├──┼────────────────╫────\n",
      "«     └───┘  │      ┌─┴─┐    ├───────────┤ ║ └╥┘┌─┴─┐┌───────────┐ ║ ┌─┐\n",
      "«q_6: ───────┼──────┤ X ├────┤ Rz(2*g_1) ├─╫──╫─┤ X ├┤ Rx(2*b_1) ├─╫─┤M├\n",
      "«          ┌─┴─┐┌───┴───┴───┐└────┬─┬────┘ ║  ║ └───┘└───────────┘ ║ └╥┘\n",
      "«q_7: ─────┤ X ├┤ Rx(2*b_1) ├─────┤M├──────╫──╫────────────────────╫──╫─\n",
      "«          └───┘└───────────┘     └╥┘      ║  ║                    ║  ║ \n",
      "«c: 8/═════════════════════════════╩═══════╩══╩════════════════════╩══╩═\n",
      "«                                  7       4  5                    1  6 \n"
     ]
    }
   ],
   "source": [
    "#and here is the circuit layout \n",
    "print(qaoa_circ)"
   ]
  },
  {
   "attachments": {},
   "cell_type": "markdown",
   "id": "a1567732",
   "metadata": {},
   "source": [
    "## Training Circuit Parameters $(\\gamma$ and $\\beta)$"
   ]
  },
  {
   "cell_type": "code",
   "execution_count": 22,
   "id": "e78ecb6e",
   "metadata": {},
   "outputs": [
    {
     "name": "stdout",
     "output_type": "stream",
     "text": [
      "Optimum circuit parameters (num_layers=1):\n",
      "\t γ= 0.4442656277803748\n",
      "\t β= 4.3157232412950695\n",
      "EV_best (ideal)= -3.2516\n",
      "Approximation Ratio (ideal)= 0.4645142857142857\n"
     ]
    }
   ],
   "source": [
    "# We must use a classical optimizer to find the optimum values of circuit parameters, gamma and beta \n",
    "\n",
    "# We already have searched on the grid of 100x100 to find the optimum parameter values\n",
    "x_best=qaoa_ideal_obj['x_best']\n",
    "_gamma=x_best[0]\n",
    "_beta=x_best[1]\n",
    "print('Optimum circuit parameters (num_layers=1):')\n",
    "print('\\t γ=', _gamma)\n",
    "print('\\t β=', _beta)\n",
    "\n",
    "EV_best=qaoa_ideal_obj['EV_best']\n",
    "print('EV_best (ideal)=', EV_best)\n",
    "print('Approximation Ratio (ideal)=', EV_best/cost_best)"
   ]
  },
  {
   "attachments": {},
   "cell_type": "markdown",
   "id": "d2a5f441",
   "metadata": {},
   "source": [
    "## Running the QAOA Circuit on a Real Quantum Hardware"
   ]
  },
  {
   "cell_type": "code",
   "execution_count": 26,
   "id": "816e1c74",
   "metadata": {},
   "outputs": [
    {
     "name": "stdout",
     "output_type": "stream",
     "text": [
      "qaoa real file name: experiments/qaoa/ba/gridsearch_100/ibmq_montreal/1_8_1^P=1.pkl\n",
      "EV_best (ibmq_montreal)= -1.97482\n",
      "Approximation Ratio (ibmq_montreal) = 0.28211714285714284\n"
     ]
    }
   ],
   "source": [
    "# Now, we can replace circuit parameters with optimum values of gamma and beta\n",
    "# compile it to a real quantum computer,\n",
    "# and run it on a real device\n",
    "qaoa_circ_binded=bind_QAOA(qaoa_circ, _out['params'], gamma=_gamma, beta=_beta)                        \n",
    "\n",
    "# we already have provided the qasm file of the circuit with optimum values\n",
    "qaoa_ideal_qasm_filename=f'{qaoa_path}ideal/{benchmark_id}.qasm'\n",
    "circ=qiskit.circuit.QuantumCircuit.from_qasm_file(qaoa_ideal_qasm_filename)\n",
    "\n",
    "# For all benchmarks, we have run the circuit with optimum parameters \n",
    "# on eight different quantum computers by IBM\n",
    "machine_name='ibmq_montreal'\n",
    "# results from running the circuit with optimum parameter values are in the folders\n",
    "# with IBM machine names\n",
    "# results for 8 different IBM machines are available for all benchmarks\n",
    "\n",
    "qaoa_real_filename=f'{qaoa_path}{machine_name}/{benchmark_id}.pkl'\n",
    "print(f'qaoa real file name: {qaoa_real_filename}')\n",
    "qaoa_real_obj=load_pickle(qaoa_real_filename)\n",
    "# qaoa_real_obj has a structure that is similar to qaoa_ideal_obj\n",
    "\n",
    "EV_real_best=qaoa_real_obj['EV_best']\n",
    "print(f'EV_best ({machine_name})=', EV_real_best)\n",
    "print(f'Approximation Ratio ({machine_name}) =', EV_real_best/cost_best)"
   ]
  },
  {
   "attachments": {},
   "cell_type": "markdown",
   "id": "28d07d8d",
   "metadata": {},
   "source": [
    "## Applying FrozenQubits\n",
    "\n",
    "In FrozenQubits, we must specify the number of qubits to freeze, denoted by $m.$\n",
    "We have results for $m=1$ and 2."
   ]
  },
  {
   "attachments": {},
   "cell_type": "markdown",
   "id": "25428c50",
   "metadata": {},
   "source": [
    "## Identifying and Removing Hotspot nodes"
   ]
  },
  {
   "cell_type": "code",
   "execution_count": 27,
   "id": "ca39b2e9",
   "metadata": {},
   "outputs": [
    {
     "name": "stdout",
     "output_type": "stream",
     "text": [
      "Edges:  [(0, 1), (0, 3), (1, 2), (1, 4), (1, 5), (1, 6), (4, 7)]\n",
      "Nodes to drop: [1]\n"
     ]
    }
   ],
   "source": [
    "m=1\n",
    "# number of qubits to freeze\n",
    "# results for m=1 and 2 have been included in this repository \n",
    "\n",
    "G=nx.Graph()\n",
    "G.add_edges_from(list(J.keys()))\n",
    "G.add_nodes_from(list(h.keys()))\n",
    "print('Edges: ', G.edges)\n",
    "\n",
    "list_of_halting_qubits=[]\n",
    "for i in range(m):\n",
    "    G, list_of_halting_qubits=drop_hotspot_node(G, list_of_fixed_vars=list_of_halting_qubits, verbosity=0)                                                        \n",
    "\n",
    "print('Nodes to drop:', list_of_halting_qubits)"
   ]
  },
  {
   "attachments": {},
   "cell_type": "markdown",
   "id": "67707262",
   "metadata": {},
   "source": [
    "## Freeze Qubits and Create Sub-Problems\n",
    "\n",
    "Freezing $m$ qubits will result in $2^m$ sub-problems.\n",
    "\n",
    "Note: Each sub-problem has its own $h$, $J$ and offset"
   ]
  },
  {
   "cell_type": "code",
   "execution_count": 28,
   "id": "ff483b0a",
   "metadata": {},
   "outputs": [
    {
     "name": "stdout",
     "output_type": "stream",
     "text": [
      "For m=1, 2 sub-problems created\n"
     ]
    }
   ],
   "source": [
    "sub_Ising_list=halt_qubits(J=J, h=h, offset=offset, halting_list=list_of_halting_qubits)                \n",
    "\n",
    "print(f'For m={m}, {len(sub_Ising_list)} sub-problems created')\n",
    "\n"
   ]
  },
  {
   "cell_type": "code",
   "execution_count": 29,
   "id": "3c34639e",
   "metadata": {},
   "outputs": [
    {
     "name": "stdout",
     "output_type": "stream",
     "text": [
      "------Sub-problem number: 0\n",
      "h: {0: 1.0, 2: 0.0, 1: -1.0, 3: -1.0, 4: 1.0, 5: -1.0, 6: 0.0}\n",
      "J {(2, 0): 1.0, (6, 3): -1.0}\n",
      "offset: 0.0\n",
      "encoding node names: {0: 0, 2: 1, 3: 2, 4: 3, 5: 4, 6: 5, 7: 6}\n",
      "FrozenQubits values: {1: -1}\n",
      "\n",
      "------Sub-problem number: 1\n",
      "h: {0: -1.0, 2: 0.0, 1: 1.0, 3: 1.0, 4: -1.0, 5: 1.0, 6: 0.0}\n",
      "J {(2, 0): 1.0, (6, 3): -1.0}\n",
      "offset: 0.0\n",
      "encoding node names: {0: 0, 2: 1, 3: 2, 4: 3, 5: 4, 6: 5, 7: 6}\n",
      "FrozenQubits values: {1: 1}\n",
      "\n"
     ]
    }
   ],
   "source": [
    "# exploring the sub-problems \n",
    "\n",
    "for sub_index in range(len(sub_Ising_list)):\n",
    "    print('------Sub-problem number:', sub_index )\n",
    "    sub_problem=sub_Ising_list[sub_index ]    \n",
    "    print('h:', sub_problem['h'])\n",
    "    print('J', sub_problem['J'])\n",
    "    print('offset:', sub_problem['offset'])\n",
    "    # most quantum devices do not accept arbitrary qubit numbers, \n",
    "    # so we encode node names \n",
    "    print('encoding node names:', sub_problem['encoding'])\n",
    "    print('FrozenQubits values:', sub_problem['halting_vals'])\n",
    "    print()"
   ]
  },
  {
   "attachments": {},
   "cell_type": "markdown",
   "id": "fefe8e5c",
   "metadata": {},
   "source": [
    "## Creating QAOA Circuits for Sub-Problems"
   ]
  },
  {
   "cell_type": "code",
   "execution_count": 30,
   "id": "48b4ed9a",
   "metadata": {},
   "outputs": [
    {
     "name": "stdout",
     "output_type": "stream",
     "text": [
      "QAOA circuit for sub-problem created\n",
      "Number of Qubits: 7\n",
      "Circuit Depth: 7\n",
      "CNOT Count: 4\n"
     ]
    }
   ],
   "source": [
    "# For each sub-problem, we can create a QAOA circuit \n",
    "#  Note: each sub-problem includes its own h, J and offset\n",
    "\n",
    "#Example: Creating QAOA circuit \n",
    "# for the first sub-problem\n",
    "sub_problem=sub_Ising_list[0]    \n",
    "_out_i=pqc_QAOA(J=sub_problem['J'], h=sub_problem['h'], num_layers=num_layers)\n",
    "qc_i=_out_i['qc']\n",
    "\n",
    "print('QAOA circuit for sub-problem created')\n",
    "print('Number of Qubits:', qc_i.num_qubits)\n",
    "print('Circuit Depth:', qc_i.depth())\n",
    "print('CNOT Count:', qc_i.count_ops().get('cx', []))"
   ]
  },
  {
   "attachments": {},
   "cell_type": "markdown",
   "id": "cb7d6892",
   "metadata": {},
   "source": [
    "## Training Sub-QAOA Circuitsof "
   ]
  },
  {
   "cell_type": "code",
   "execution_count": 32,
   "id": "56981ba0",
   "metadata": {},
   "outputs": [
    {
     "name": "stdout",
     "output_type": "stream",
     "text": [
      "m=1 | sub-index=0\n",
      "EV_best (ideal)= -4.1702\n",
      "Approximation Ratio (ideal)=  0.5957428571428572\n"
     ]
    }
   ],
   "source": [
    "# we have included results of training all sub-problems in this repository \n",
    "\n",
    "# FrozenQubits files are in the following folder:\n",
    "FQ_path=f'experiments/frozenqubits_full/{benchmark_type}/gridsearch_100/'\n",
    "\n",
    "sub_index=0\n",
    "# sub_index can be between 0 to 2^m -1\n",
    "FQ_id=get_benchmark_id(benchmark_type, n=n, k=k)+f'^M={m}_{sub_index}^P={num_layers}'\n",
    "\n",
    "# Results for the ideal simulator is in in the \"ideal\" subfolder \n",
    "FQ_ideal_filename_i=f'{FQ_path}ideal/{FQ_id}.pkl'\n",
    "FQ_ideal_obj_i=load_pickle(FQ_ideal_filename_i)\n",
    "#FQ_ideal_obj is a dict object \n",
    "\n",
    "print(f'm={m} | sub-index={sub_index}')\n",
    "print(f'EV_best (ideal)=', FQ_ideal_obj_i['EV_best'])\n",
    "print(f'Approximation Ratio (ideal)= ', FQ_ideal_obj_i['EV_best']/FQ_ideal_obj_i['cost_best'])"
   ]
  },
  {
   "attachments": {},
   "cell_type": "markdown",
   "id": "eb797606",
   "metadata": {},
   "source": [
    "## Running Sub-Problems on a Real Quantum Hardware"
   ]
  },
  {
   "cell_type": "code",
   "execution_count": 33,
   "id": "c6de38fc",
   "metadata": {},
   "outputs": [
    {
     "name": "stdout",
     "output_type": "stream",
     "text": [
      "Machine: ibmq_montreal\n",
      "EV_best (ibmq_montreal)= -3.88996\n",
      "Approximation Ratio (ibmq_montreal)= 0.5557085714285714\n"
     ]
    }
   ],
   "source": [
    "# Results from running all sub-problems on eight different IBM machines are also included \n",
    "\n",
    "FQ_real_filename_i=f'{FQ_path}{machine_name}/{FQ_id}.pkl'\n",
    "FQ_real_obj_i=load_pickle(FQ_real_filename_i)\n",
    "#FQ_real_obj_iis a dict object \n",
    "\n",
    "print('Machine:', machine_name)\n",
    "print(f'EV_best ({machine_name})=', FQ_real_obj_i['EV_best'])\n",
    "print(f'Approximation Ratio ({machine_name})=', FQ_real_obj_i['EV_best']/FQ_real_obj_i['cost_best'])"
   ]
  },
  {
   "attachments": {},
   "cell_type": "markdown",
   "id": "16132cb0",
   "metadata": {},
   "source": [
    "## Comparing Results"
   ]
  },
  {
   "cell_type": "code",
   "execution_count": 34,
   "id": "a8043f83",
   "metadata": {},
   "outputs": [
    {
     "name": "stdout",
     "output_type": "stream",
     "text": [
      "Benchmark Type: ba\n",
      "Number of problem variables: 8\n",
      "k=1 (for SK model, k is ignored)\n",
      "\n",
      "Baseline (standard QAOA)\n",
      "\t EV (ideal): -3.2516\n",
      "\t EV (ibmq_montreal): -1.97482\n",
      "\t AR (ideal): 0.4645142857142857\n",
      "\t AR (ibmq_montreal): 0.28211714285714284\n",
      "--------------------------------\n",
      "FrozenQubits (m=1)\n",
      "  sub-problem  0\n",
      "\t EV (ideal): -4.1702\n",
      "\t EV (ibmq_montreal): -3.88996\n",
      "\t AR (ideal): 0.5957428571428572\n",
      "\t AR (ibmq_montreal): 0.5557085714285714\n",
      "  sub-problem  1\n",
      "\t EV (ideal): -4.1612\n",
      "\t EV (ibmq_montreal): -3.97064\n",
      "\t AR (ideal): 0.5944571428571429\n",
      "\t AR (ibmq_montreal): 0.5672342857142857\n"
     ]
    }
   ],
   "source": [
    "print('Benchmark Type:', benchmark_type)\n",
    "print('Number of problem variables:', n)\n",
    "print(f'k={k} (for SK model, k is ignored)')\n",
    "\n",
    "print()\n",
    "print('Baseline (standard QAOA)')\n",
    "print(f'\\t EV (ideal):', qaoa_ideal_obj['EV_best'])\n",
    "print(f'\\t EV ({machine_name}):', qaoa_real_obj['EV_best'])\n",
    "print(f'\\t AR (ideal):', qaoa_ideal_obj['EV_best']/qaoa_ideal_obj['cost_best'])\n",
    "print(f'\\t AR ({machine_name}):', qaoa_real_obj['EV_best']/qaoa_ideal_obj['cost_best'])\n",
    "\n",
    "print('--------------------------------')\n",
    "print(f'FrozenQubits (m={m})')\n",
    "for sub_index in range(2**m):\n",
    "    print(f'  sub-problem ', sub_index)\n",
    "    FQ_id=get_benchmark_id(benchmark_type, n=n, k=k)+f'^M={m}_{sub_index}^P={num_layers}'\n",
    "    FQ_ideal_filename_i=f'{FQ_path}ideal/{FQ_id}.pkl'\n",
    "    FQ_ideal_obj_i=load_pickle(FQ_ideal_filename_i)\n",
    "    FQ_real_filename_i=f'{FQ_path}{machine_name}/{FQ_id}.pkl'\n",
    "    FQ_real_obj_i=load_pickle(FQ_real_filename_i)\n",
    "    print(f'\\t EV (ideal):', FQ_ideal_obj_i['EV_best'])\n",
    "    print(f'\\t EV ({machine_name}):', FQ_real_obj_i['EV_best'])\n",
    "    print(f'\\t AR (ideal):', FQ_ideal_obj_i['EV_best']/FQ_ideal_obj_i['cost_best'])\n",
    "    print(f'\\t AR ({machine_name}):', FQ_real_obj_i['EV_best']/FQ_real_obj_i['cost_best'])\n",
    "    "
   ]
  },
  {
   "cell_type": "code",
   "execution_count": 7,
   "metadata": {},
   "outputs": [
    {
     "name": "stdout",
     "output_type": "stream",
     "text": [
      "Graph with 8 nodes and 2 edges\n",
      "     ┌───┐    ┌───┐    ┌─────────────┐    ┌───┐┌───────────┐                  »\n",
      "q_0: ┤ H ├────┤ X ├────┤ Rz(2.0*g_1) ├────┤ X ├┤ Rx(2*b_1) ├──────────────────»\n",
      "     ├───┤    └─┬─┘    └┬───────────┬┘ ┌─┐└─┬─┘└───────────┘                  »\n",
      "q_1: ┤ H ├──────┼───────┤ Rx(2*b_1) ├──┤M├──┼─────────────────────────────────»\n",
      "     ├───┤      │       └───────────┘  └╥┘  │  ┌───────────┐                  »\n",
      "q_2: ┤ H ├──────■───────────────────────╫───■──┤ Rx(2*b_1) ├──────────────────»\n",
      "     ├───┤    ┌───┐    ┌──────────────┐ ║      └───────────┘┌───┐┌───────────┐»\n",
      "q_3: ┤ H ├────┤ X ├────┤ Rz(-2.0*g_1) ├─╫───────────────────┤ X ├┤ Rx(2*b_1) ├»\n",
      "     ├───┤    └─┬─┘    └┬───────────┬─┘ ║  ┌─┐              └─┬─┘└───────────┘»\n",
      "q_4: ┤ H ├──────┼───────┤ Rx(2*b_1) ├───╫──┤M├────────────────┼───────────────»\n",
      "     ├───┤      │       ├───────────┤   ║  └╥┘      ┌─┐       │               »\n",
      "q_5: ┤ H ├──────┼───────┤ Rx(2*b_1) ├───╫───╫───────┤M├───────┼───────────────»\n",
      "     ├───┤      │       └───────────┘   ║   ║       └╥┘       │  ┌───────────┐»\n",
      "q_6: ┤ H ├──────■───────────────────────╫───╫────────╫────────■──┤ Rx(2*b_1) ├»\n",
      "     ├───┤┌───────────┐      ┌─┐        ║   ║        ║           └───────────┘»\n",
      "q_7: ┤ H ├┤ Rx(2*b_1) ├──────┤M├────────╫───╫────────╫────────────────────────»\n",
      "     └───┘└───────────┘      └╥┘        ║   ║        ║                        »\n",
      "c: 8/═════════════════════════╩═════════╩═══╩════════╩════════════════════════»\n",
      "                              7         1   4        5                        »\n",
      "«     ┌─┐         \n",
      "«q_0: ┤M├─────────\n",
      "«     └╥┘         \n",
      "«q_1: ─╫──────────\n",
      "«      ║ ┌─┐      \n",
      "«q_2: ─╫─┤M├──────\n",
      "«      ║ └╥┘┌─┐   \n",
      "«q_3: ─╫──╫─┤M├───\n",
      "«      ║  ║ └╥┘   \n",
      "«q_4: ─╫──╫──╫────\n",
      "«      ║  ║  ║    \n",
      "«q_5: ─╫──╫──╫────\n",
      "«      ║  ║  ║ ┌─┐\n",
      "«q_6: ─╫──╫──╫─┤M├\n",
      "«      ║  ║  ║ └╥┘\n",
      "«q_7: ─╫──╫──╫──╫─\n",
      "«      ║  ║  ║  ║ \n",
      "«c: 8/═╩══╩══╩══╩═\n",
      "«      0  2  3  6 \n"
     ]
    }
   ],
   "source": [
    "h = {0: 0.0, 1: 0.0, 3: 0.0, 2: 0.0, 4: 0.0, 5: 0.0, 6: 0.0, 7: 0.0}\n",
    "J = {(2, 0): 1.0, (6, 3): -1.0}\n",
    "G=nx.Graph()\n",
    "G.add_edges_from(list(J.keys()))\n",
    "G.add_nodes_from(list(h.keys()))\n",
    "print(G)\n",
    "\n",
    "_out=pqc_QAOA(J=J, h=h, num_layers=1)\n",
    "qaoa_circ=_out['qc']\n",
    "\n",
    "print(qaoa_circ)"
   ]
  },
  {
   "cell_type": "code",
   "execution_count": null,
   "id": "0f1e7661",
   "metadata": {},
   "outputs": [],
   "source": []
  }
 ],
 "metadata": {
  "kernelspec": {
   "display_name": "Python 3 (ipykernel)",
   "language": "python",
   "name": "python3"
  },
  "language_info": {
   "codemirror_mode": {
    "name": "ipython",
    "version": 3
   },
   "file_extension": ".py",
   "mimetype": "text/x-python",
   "name": "python",
   "nbconvert_exporter": "python",
   "pygments_lexer": "ipython3",
   "version": "3.9.2"
  },
  "vscode": {
   "interpreter": {
    "hash": "09d241a72caf352d4b051b510cdbcbd57841055e488ebb3a05701410d0685b3c"
   }
  }
 },
 "nbformat": 4,
 "nbformat_minor": 5
}

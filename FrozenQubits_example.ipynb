{
 "cells": [
  {
   "attachments": {},
   "cell_type": "markdown",
   "id": "ef324137",
   "metadata": {},
   "source": [
    "# FrozenQubits:   Boosting Fidelity of QAOA by Skipping Hotspot Nodes\n",
    "\n",
    "FrozenQubits is a novel quantum divide-and-conquer approach that leverages the insight about most real-world applications having power-law graphs to boost the fidelity of QAOA applications. \n",
    "In FrozenQubits, we freeze some of the nodes with the highest degree of connectivity. \n",
    "This drops the edges connected to these nodes resulting in a circuit with fewer CNOTs and lower depth. \n",
    "\n",
    "To read the full paper, please visit: (https://arxiv.org/abs/2210.17037)(https://arxiv.org/abs/2210.17037)\n",
    "\n",
    "This tutorial includes some example codes showing how to apply FrozenQubits to QAOA applications and compare its results with the standard QAOA. \n"
   ]
  },
  {
   "attachments": {},
   "cell_type": "markdown",
   "id": "a8be7afb",
   "metadata": {},
   "source": [
    "## Requirements\n",
    "\n",
    "The following packages are needed to run the sample codes:\n",
    "\n",
    "- numpy (pip install numpy)\n",
    "- qiskit (pip install qiskit)\n",
    "- networkx (pip install networkx)\n",
    "- dimod (pip install dimod)"
   ]
  },
  {
   "cell_type": "code",
   "execution_count": 46,
   "id": "a5dbdc6b",
   "metadata": {
    "ExecuteTime": {
     "end_time": "2023-06-21T10:54:33.703405Z",
     "start_time": "2023-06-21T10:54:31.678400Z"
    }
   },
   "outputs": [],
   "source": [
    "from helper import *\n",
    "from helper_qaoa import *\n",
    "from  helper_FrozenQubits import *\n",
    "from Evaluation import *\n",
    "\n",
    "import random\n",
    "import colorama\n",
    "from colorama import Fore\n",
    "\n",
    "from os import *\n",
    "from qiskit import *"
   ]
  },
  {
   "attachments": {},
   "cell_type": "markdown",
   "id": "9142fc5e",
   "metadata": {},
   "source": [
    "## Specifying Benchmark Problem\n",
    "\n",
    "This repository includes three types of problems:\n",
    "- SK: Sherrington—kirkpatrick (SK) model or fully-connected graphs \n",
    "- k_regular: 3-Regular graphs\n",
    "- ba: Barabasi—Albert (BA) or power-law graphs \n",
    "\n",
    "\n",
    "In addition to the benchmark type, we should specify the number of qubits (or nodes of the problem graph), denoted by $n \\in \\{4, 5, \\dots, 24\\}$ and the value of $k.$\n",
    "- In \"k_regular\" graphs, $k$ specifies the degree of the nodes, and only $k=3$ examples are available in this repository. \n",
    "- In BA graphs, $k$ specifies the preferential attachment $(d_{BA}),$ and $k=1,2$ and 3 benchmarks are included in this repository.\n"
   ]
  },
  {
   "cell_type": "code",
   "execution_count": 68,
   "id": "0bc40bff",
   "metadata": {
    "ExecuteTime": {
     "end_time": "2023-06-20T17:48:42.556970Z",
     "start_time": "2023-06-20T17:48:42.552826Z"
    }
   },
   "outputs": [
    {
     "name": "stdout",
     "output_type": "stream",
     "text": [
      "Benchmark: ba graph with 8 nodes\n"
     ]
    }
   ],
   "source": [
    "benchmark_type=['sk', 'k_regular', 'ba'][2]\n",
    "\n",
    "# Number of nodes/qubits\n",
    "n=8\n",
    "print(f'Benchmark: {benchmark_type} graph with {n} nodes')\n",
    "\n",
    "k=1\n",
    "# in BA graphs, k=1,2 or 3\n",
    "#for k_regular, only k=3 is available \n",
    "# Also, for k-Regular graphs, 1<k<n and k*n must be an even number\n",
    "\n",
    "# We only have data for P=1 layers of QAOA \n",
    "num_layers=1\n",
    "benchmark_id=\"\"\n",
    "\n",
    "try:\n",
    "    benchmark_id=get_benchmark_id(benchmark_type, n=n, k=k)+f'^P={num_layers}'\n",
    "except:\n",
    "    pass\n",
    "    # in k-regular graphs, 1<k<n, and n*k ust be an even number"
   ]
  },
  {
   "cell_type": "code",
   "execution_count": null,
   "id": "e1c52c3b",
   "metadata": {
    "ExecuteTime": {
     "end_time": "2023-06-20T17:48:42.565247Z",
     "start_time": "2023-06-20T17:48:42.562424Z"
    }
   },
   "outputs": [],
   "source": []
  },
  {
   "attachments": {},
   "cell_type": "markdown",
   "id": "b13bb45f",
   "metadata": {},
   "source": [
    "## Loading Benchmark Problem"
   ]
  },
  {
   "cell_type": "code",
   "execution_count": 48,
   "id": "44d20758",
   "metadata": {},
   "outputs": [
    {
     "ename": "NameError",
     "evalue": "name 'benchmark_type' is not defined",
     "output_type": "error",
     "traceback": [
      "\u001b[0;31m---------------------------------------------------------------------------\u001b[0m",
      "\u001b[0;31mNameError\u001b[0m                                 Traceback (most recent call last)",
      "Cell \u001b[0;32mIn[48], line 2\u001b[0m\n\u001b[1;32m      1\u001b[0m \u001b[39m# baseline files are in the following folder:\u001b[39;00m\n\u001b[0;32m----> 2\u001b[0m qaoa_path\u001b[39m=\u001b[39m\u001b[39mf\u001b[39m\u001b[39m'\u001b[39m\u001b[39mexperiments/qaoa/\u001b[39m\u001b[39m{\u001b[39;00mbenchmark_type\u001b[39m}\u001b[39;00m\u001b[39m/gridsearch_100/\u001b[39m\u001b[39m'\u001b[39m\n\u001b[1;32m      4\u001b[0m \u001b[39m# Results for the ideal simulator on in the \"ideal\" subfolder \u001b[39;00m\n\u001b[1;32m      6\u001b[0m \u001b[39mprint\u001b[39m(\u001b[39m\"\u001b[39m\u001b[39mprinting current directory: \u001b[39m\u001b[39m%s\u001b[39;00m\u001b[39m\"\u001b[39m, cwd)\n",
      "\u001b[0;31mNameError\u001b[0m: name 'benchmark_type' is not defined"
     ]
    }
   ],
   "source": [
    "# baseline files are in the following folder:\n",
    "qaoa_path=f'experiments/qaoa/{benchmark_type}/gridsearch_100/'\n",
    "\n",
    "# Results for the ideal simulator on in the \"ideal\" subfolder \n",
    "\n",
    "print(\"printing current directory: %s\", cwd)\n",
    "qaoa_ideal_filename=f'{qaoa_path}ideal/{benchmark_id}.pkl'\n",
    "qaoa_ideal_obj=load_pickle(qaoa_ideal_filename)\n",
    "#qaoa_ideal_obj is a dict object \n",
    "\n",
    "# all benchmark files include h, J and offset that defines the Ising Hamiltonian \n",
    "# h denotes linear coefficients\n",
    "# J denotes quadratic coefficients\n",
    "# offset is the constant bias\n",
    "h=qaoa_ideal_obj['h']\n",
    "J=qaoa_ideal_obj['J']\n",
    "offset=qaoa_ideal_obj['offset']\n",
    "\n",
    "print(f'{benchmark_type} benchmark with {n} nodes loaded')\n",
    "print('h=', h)\n",
    "print('J=', J)\n",
    "print('offset=', offset)\n",
    "\n",
    "# for each benchmark, we have found the optimum solution(s) by Brute force approach\n",
    "cost_best=qaoa_ideal_obj['cost_best']\n",
    "optimum_solutions=qaoa_ideal_obj['optimum_solutions']\n",
    "\n",
    "print('--------')\n",
    "print('Minimum cost value=', cost_best)\n",
    "print('Optimum solutions:', optimum_solutions)"
   ]
  },
  {
   "attachments": {},
   "cell_type": "markdown",
   "id": "e023c25d",
   "metadata": {},
   "source": [
    "## Creating Parametric QAOA Circuit "
   ]
  },
  {
   "cell_type": "code",
   "execution_count": 35,
   "id": "71c520bd",
   "metadata": {},
   "outputs": [
    {
     "name": "stdout",
     "output_type": "stream",
     "text": [
      "QAOA circuit with P=1 layers created\n",
      "Number of qubits: 8\n",
      "Depth: 24\n",
      "CNOT count: 16\n"
     ]
    }
   ],
   "source": [
    "# the \"helper_qaoa.py\" (which has been published with this tutorial) \n",
    "# includes \"pqc_QAOA\" module that creates a parametric QAOA circuit \n",
    "# for an Ising Hamiltonian, defined with h and J\n",
    "_out=pqc_QAOA(J=J, h=h, num_layers=num_layers)\n",
    "qaoa_circ=_out['qc']\n",
    "\n",
    "print(f'QAOA circuit with P={num_layers} layers created')\n",
    "print('Number of qubits:', qaoa_circ.num_qubits)\n",
    "print('Depth:', qaoa_circ.depth())\n",
    "print('CNOT count:', qaoa_circ.count_ops()['cx'])"
   ]
  },
  {
   "cell_type": "code",
   "execution_count": 36,
   "id": "6ea2d8ee",
   "metadata": {},
   "outputs": [
    {
     "name": "stdout",
     "output_type": "stream",
     "text": [
      "     ┌───┐                                                                    »\n",
      "q_0: ┤ H ├──■────────────────────■────■────────────────────────────────────■──»\n",
      "     ├───┤┌─┴─┐┌──────────────┐┌─┴─┐  │                                    │  »\n",
      "q_1: ┤ H ├┤ X ├┤ Rz(-2.0*g_1) ├┤ X ├──┼─────────■──────────────────────────┼──»\n",
      "     ├───┤└───┘└──────────────┘└───┘  │       ┌─┴─┐      ┌──────────────┐  │  »\n",
      "q_2: ┤ H ├────────────────────────────┼───────┤ X ├──────┤ Rz(-2.0*g_1) ├──┼──»\n",
      "     ├───┤                            │       └───┘      └──────────────┘  │  »\n",
      "q_3: ┤ H ├────────────────────────────┼────────────────────────────────────┼──»\n",
      "     ├───┤                            │                                    │  »\n",
      "q_4: ┤ H ├────────────────────────────┼────────────────────────────────────┼──»\n",
      "     ├───┤                            │                                    │  »\n",
      "q_5: ┤ H ├────────────────────────────┼────────────────────────────────────┼──»\n",
      "     ├───┤                            │                                    │  »\n",
      "q_6: ┤ H ├────────────────────────────┼────────────────────────────────────┼──»\n",
      "     ├───┤                          ┌─┴─┐┌──────────────┐                ┌─┴─┐»\n",
      "q_7: ┤ H ├──────────────────────────┤ X ├┤ Rz(-2.0*g_1) ├────────────────┤ X ├»\n",
      "     └───┘                          └───┘└──────────────┘                └───┘»\n",
      "c: 8/═════════════════════════════════════════════════════════════════════════»\n",
      "                                                                              »\n",
      "«     ┌───────────┐                             ┌─┐                     »\n",
      "«q_0: ┤ Rx(2*b_1) ├─────────────────────────────┤M├─────────────────────»\n",
      "«     └───────────┘┌───────────┐                └╥┘┌─┐                  »\n",
      "«q_1: ──────■──────┤ Rx(2*b_1) ├─────────────────╫─┤M├──────────────────»\n",
      "«         ┌─┴─┐    └───────────┘                 ║ └╥┘     ┌───────────┐»\n",
      "«q_2: ────┤ X ├──────────■───────────────────────╫──╫───■──┤ Rx(2*b_1) ├»\n",
      "«         └───┘        ┌─┴─┐    ┌──────────────┐ ║  ║ ┌─┴─┐└───────────┘»\n",
      "«q_3: ─────────────────┤ X ├────┤ Rz(-2.0*g_1) ├─╫──╫─┤ X ├──────■──────»\n",
      "«                      └───┘    └──────────────┘ ║  ║ └───┘    ┌─┴─┐    »\n",
      "«q_4: ───────────────────────────────────────────╫──╫──────────┤ X ├────»\n",
      "«                                                ║  ║          └───┘    »\n",
      "«q_5: ───────────────────────────────────────────╫──╫───────────────────»\n",
      "«                                                ║  ║                   »\n",
      "«q_6: ───────────────────────────────────────────╫──╫───────────────────»\n",
      "«                                                ║  ║                   »\n",
      "«q_7: ───────────────────────────────────────────╫──╫───────────────────»\n",
      "«                                                ║  ║                   »\n",
      "«c: 8/═══════════════════════════════════════════╩══╩═══════════════════»\n",
      "«                                                0  1                   »\n",
      "«                                                                             »\n",
      "«q_0: ────────────────────────────────────────────────────────────────────────»\n",
      "«                                                                             »\n",
      "«q_1: ────────────────────────────────────────────────────────────────────────»\n",
      "«                    ┌─┐                                                      »\n",
      "«q_2: ───────────────┤M├──────────────────────────────────────────────────────»\n",
      "«                    └╥┘     ┌───────────┐               ┌─┐                  »\n",
      "«q_3: ────────────────╫───■──┤ Rx(2*b_1) ├───────────────┤M├──────────────────»\n",
      "«     ┌─────────────┐ ║ ┌─┴─┐└───────────┘               └╥┘     ┌───────────┐»\n",
      "«q_4: ┤ Rz(2.0*g_1) ├─╫─┤ X ├──────■──────────────────────╫───■──┤ Rx(2*b_1) ├»\n",
      "«     └─────────────┘ ║ └───┘    ┌─┴─┐    ┌─────────────┐ ║ ┌─┴─┐└───────────┘»\n",
      "«q_5: ────────────────╫──────────┤ X ├────┤ Rz(2.0*g_1) ├─╫─┤ X ├──────■──────»\n",
      "«                     ║          └───┘    └─────────────┘ ║ └───┘    ┌─┴─┐    »\n",
      "«q_6: ────────────────╫───────────────────────────────────╫──────────┤ X ├────»\n",
      "«                     ║                                   ║          └───┘    »\n",
      "«q_7: ────────────────╫───────────────────────────────────╫───────────────────»\n",
      "«                     ║                                   ║                   »\n",
      "«c: 8/════════════════╩═══════════════════════════════════╩═══════════════════»\n",
      "«                     2                                   3                   »\n",
      "«                                                                  »\n",
      "«q_0: ─────────────────────────────────────────────────────────────»\n",
      "«                                                                  »\n",
      "«q_1: ─────────────────────────────────────────────────────────────»\n",
      "«                                                                  »\n",
      "«q_2: ─────────────────────────────────────────────────────────────»\n",
      "«                                                                  »\n",
      "«q_3: ─────────────────────────────────────────────────────────────»\n",
      "«                     ┌─┐                                          »\n",
      "«q_4: ────────────────┤M├──────────────────────────────────────────»\n",
      "«                     └╥┘     ┌───────────┐                ┌─┐     »\n",
      "«q_5: ─────────────────╫───■──┤ Rx(2*b_1) ├────────────────┤M├─────»\n",
      "«     ┌──────────────┐ ║ ┌─┴─┐└───────────┘                └╥┘     »\n",
      "«q_6: ┤ Rz(-2.0*g_1) ├─╫─┤ X ├──────■───────────────────────╫───■──»\n",
      "«     └──────────────┘ ║ └───┘    ┌─┴─┐    ┌──────────────┐ ║ ┌─┴─┐»\n",
      "«q_7: ─────────────────╫──────────┤ X ├────┤ Rz(-2.0*g_1) ├─╫─┤ X ├»\n",
      "«                      ║          └───┘    └──────────────┘ ║ └───┘»\n",
      "«c: 8/═════════════════╩════════════════════════════════════╩══════»\n",
      "«                      4                                    5      »\n",
      "«                        \n",
      "«q_0: ───────────────────\n",
      "«                        \n",
      "«q_1: ───────────────────\n",
      "«                        \n",
      "«q_2: ───────────────────\n",
      "«                        \n",
      "«q_3: ───────────────────\n",
      "«                        \n",
      "«q_4: ───────────────────\n",
      "«                        \n",
      "«q_5: ───────────────────\n",
      "«     ┌───────────┐┌─┐   \n",
      "«q_6: ┤ Rx(2*b_1) ├┤M├───\n",
      "«     ├───────────┤└╥┘┌─┐\n",
      "«q_7: ┤ Rx(2*b_1) ├─╫─┤M├\n",
      "«     └───────────┘ ║ └╥┘\n",
      "«c: 8/══════════════╩══╩═\n",
      "«                   6  7 \n"
     ]
    }
   ],
   "source": [
    "#and here is the circuit layout \n",
    "print(qaoa_circ)"
   ]
  },
  {
   "attachments": {},
   "cell_type": "markdown",
   "id": "a1567732",
   "metadata": {},
   "source": [
    "## Training Circuit Parameters $(\\gamma$ and $\\beta)$"
   ]
  },
  {
   "cell_type": "code",
   "execution_count": 37,
   "id": "e78ecb6e",
   "metadata": {},
   "outputs": [
    {
     "ename": "NameError",
     "evalue": "name 'qaoa_ideal_obj' is not defined",
     "output_type": "error",
     "traceback": [
      "\u001b[0;31m---------------------------------------------------------------------------\u001b[0m",
      "\u001b[0;31mNameError\u001b[0m                                 Traceback (most recent call last)",
      "Cell \u001b[0;32mIn[37], line 4\u001b[0m\n\u001b[1;32m      1\u001b[0m \u001b[39m# We must use a classical optimizer to find the optimum values of circuit parameters, gamma and beta \u001b[39;00m\n\u001b[1;32m      2\u001b[0m \n\u001b[1;32m      3\u001b[0m \u001b[39m# We already have searched on the grid of 100x100 to find the optimum parameter values\u001b[39;00m\n\u001b[0;32m----> 4\u001b[0m x_best\u001b[39m=\u001b[39mqaoa_ideal_obj[\u001b[39m'\u001b[39m\u001b[39mx_best\u001b[39m\u001b[39m'\u001b[39m]\n\u001b[1;32m      5\u001b[0m _gamma\u001b[39m=\u001b[39mx_best[\u001b[39m0\u001b[39m]\n\u001b[1;32m      6\u001b[0m _beta\u001b[39m=\u001b[39mx_best[\u001b[39m1\u001b[39m]\n",
      "\u001b[0;31mNameError\u001b[0m: name 'qaoa_ideal_obj' is not defined"
     ]
    }
   ],
   "source": [
    "# We must use a classical optimizer to find the optimum values of circuit parameters, gamma and beta \n",
    "\n",
    "# We already have searched on the grid of 100x100 to find the optimum parameter values\n",
    "x_best=qaoa_ideal_obj['x_best']\n",
    "_gamma=x_best[0]\n",
    "_beta=x_best[1]\n",
    "print('Optimum circuit parameters (num_layers=1):')\n",
    "print('\\t γ=', _gamma)\n",
    "print('\\t β=', _beta)\n",
    "\n",
    "EV_best=qaoa_ideal_obj['EV_best']\n",
    "print('EV_best (ideal)=', EV_best)\n",
    "print('Approximation Ratio (ideal)=', EV_best/cost_best)"
   ]
  },
  {
   "attachments": {},
   "cell_type": "markdown",
   "id": "d2a5f441",
   "metadata": {},
   "source": [
    "## Running the QAOA Circuit on a Real Quantum Hardware"
   ]
  },
  {
   "cell_type": "code",
   "execution_count": null,
   "id": "816e1c74",
   "metadata": {},
   "outputs": [],
   "source": [
    "# Now, we can replace circuit parameters with optimum values of gamma and beta\n",
    "# compile it to a real quantum computer,\n",
    "# and run it on a real device\n",
    "qaoa_circ_binded=bind_QAOA(qaoa_circ, _out['params'], gamma=_gamma, beta=_beta)                        \n",
    "\n",
    "# we already have provided the qasm file of the circuit with optimum values\n",
    "qaoa_ideal_qasm_filename=f'{qaoa_path}ideal/{benchmark_id}.qasm'\n",
    "circ=qiskit.circuit.QuantumCircuit.from_qasm_file(qaoa_ideal_qasm_filename)\n",
    "\n",
    "# For all benchmarks, we have run the circuit with optimum parameters \n",
    "# on eight different quantum computers by IBM\n",
    "machine_name='ibmq_montreal'\n",
    "# results from running the circuit with optimum parameter values are in the folders\n",
    "# with IBM machine names\n",
    "# results for 8 different IBM machines are available for all benchmarks\n",
    "\n",
    "qaoa_real_filename=f'{qaoa_path}{machine_name}/{benchmark_id}.pkl'\n",
    "print(f'qaoa real file name: {qaoa_real_filename}')\n",
    "qaoa_real_obj=load_pickle(qaoa_real_filename)\n",
    "# qaoa_real_obj has a structure that is similar to qaoa_ideal_obj\n",
    "\n",
    "EV_real_best=qaoa_real_obj['EV_best']\n",
    "print(f'EV_best ({machine_name})=', EV_real_best)\n",
    "print(f'Approximation Ratio ({machine_name}) =', EV_real_best/cost_best)"
   ]
  },
  {
   "attachments": {},
   "cell_type": "markdown",
   "id": "28d07d8d",
   "metadata": {},
   "source": [
    "## Applying FrozenQubits\n",
    "\n",
    "In FrozenQubits, we must specify the number of qubits to freeze, denoted by $m.$\n",
    "We have results for $m=1$ and 2."
   ]
  },
  {
   "attachments": {},
   "cell_type": "markdown",
   "id": "25428c50",
   "metadata": {},
   "source": [
    "## Identifying and Removing Hotspot nodes"
   ]
  },
  {
   "cell_type": "code",
   "execution_count": null,
   "id": "ca39b2e9",
   "metadata": {},
   "outputs": [],
   "source": [
    "m=1\n",
    "# number of qubits to freeze\n",
    "# results for m=1 and 2 have been included in this repository \n",
    "\n",
    "G=nx.Graph()\n",
    "G.add_edges_from(list(J.keys()))\n",
    "G.add_nodes_from(list(h.keys()))\n",
    "print('Edges: ', G.edges)\n",
    "\n",
    "list_of_halting_qubits=[]\n",
    "for i in range(m):\n",
    "    G, list_of_halting_qubits=drop_hotspot_node(G, list_of_fixed_vars=list_of_halting_qubits, verbosity=0)                                                        \n",
    "\n",
    "print('Nodes to drop:', list_of_halting_qubits)"
   ]
  },
  {
   "attachments": {},
   "cell_type": "markdown",
   "id": "67707262",
   "metadata": {},
   "source": [
    "## Freeze Qubits and Create Sub-Problems\n",
    "\n",
    "Freezing $m$ qubits will result in $2^m$ sub-problems.\n",
    "\n",
    "Note: Each sub-problem has its own $h$, $J$ and offset"
   ]
  },
  {
   "cell_type": "code",
   "execution_count": null,
   "id": "ff483b0a",
   "metadata": {},
   "outputs": [],
   "source": [
    "sub_Ising_list=halt_qubits(J=J, h=h, offset=offset, halting_list=list_of_halting_qubits)                \n",
    "\n",
    "print(f'For m={m}, {len(sub_Ising_list)} sub-problems created')\n",
    "\n"
   ]
  },
  {
   "cell_type": "code",
   "execution_count": null,
   "id": "3c34639e",
   "metadata": {},
   "outputs": [],
   "source": [
    "# exploring the sub-problems \n",
    "\n",
    "for sub_index in range(len(sub_Ising_list)):\n",
    "    print('------Sub-problem number:', sub_index )\n",
    "    sub_problem=sub_Ising_list[sub_index ]    \n",
    "    print('h:', sub_problem['h'])\n",
    "    print('J', sub_problem['J'])\n",
    "    print('offset:', sub_problem['offset'])\n",
    "    # most quantum devices do not accept arbitrary qubit numbers, \n",
    "    # so we encode node names \n",
    "    print('encoding node names:', sub_problem['encoding'])\n",
    "    print('FrozenQubits values:', sub_problem['halting_vals'])\n",
    "    print()"
   ]
  },
  {
   "attachments": {},
   "cell_type": "markdown",
   "id": "fefe8e5c",
   "metadata": {},
   "source": [
    "## Creating QAOA Circuits for Sub-Problems"
   ]
  },
  {
   "cell_type": "code",
   "execution_count": null,
   "id": "48b4ed9a",
   "metadata": {},
   "outputs": [],
   "source": [
    "# For each sub-problem, we can create a QAOA circuit \n",
    "#  Note: each sub-problem includes its own h, J and offset\n",
    "\n",
    "#Example: Creating QAOA circuit \n",
    "# for the first sub-problem\n",
    "sub_problem=sub_Ising_list[0]    \n",
    "_out_i=pqc_QAOA(J=sub_problem['J'], h=sub_problem['h'], num_layers=num_layers)\n",
    "qc_i=_out_i['qc']\n",
    "\n",
    "print('QAOA circuit for sub-problem created')\n",
    "print('Number of Qubits:', qc_i.num_qubits)\n",
    "print('Circuit Depth:', qc_i.depth())\n",
    "print('CNOT Count:', qc_i.count_ops().get('cx', []))"
   ]
  },
  {
   "attachments": {},
   "cell_type": "markdown",
   "id": "cb7d6892",
   "metadata": {},
   "source": [
    "## Training Sub-QAOA Circuitsof "
   ]
  },
  {
   "cell_type": "code",
   "execution_count": null,
   "id": "56981ba0",
   "metadata": {},
   "outputs": [],
   "source": [
    "# we have included results of training all sub-problems in this repository \n",
    "\n",
    "# FrozenQubits files are in the following folder:\n",
    "FQ_path=f'experiments/frozenqubits_full/{benchmark_type}/gridsearch_100/'\n",
    "\n",
    "sub_index=0\n",
    "# sub_index can be between 0 to 2^m -1\n",
    "FQ_id=get_benchmark_id(benchmark_type, n=n, k=k)+f'^M={m}_{sub_index}^P={num_layers}'\n",
    "\n",
    "# Results for the ideal simulator is in in the \"ideal\" subfolder \n",
    "FQ_ideal_filename_i=f'{FQ_path}ideal/{FQ_id}.pkl'\n",
    "FQ_ideal_obj_i=load_pickle(FQ_ideal_filename_i)\n",
    "#FQ_ideal_obj is a dict object \n",
    "\n",
    "print(f'm={m} | sub-index={sub_index}')\n",
    "print(f'EV_best (ideal)=', FQ_ideal_obj_i['EV_best'])\n",
    "print(f'Approximation Ratio (ideal)= ', FQ_ideal_obj_i['EV_best']/FQ_ideal_obj_i['cost_best'])"
   ]
  },
  {
   "attachments": {},
   "cell_type": "markdown",
   "id": "eb797606",
   "metadata": {},
   "source": [
    "## Running Sub-Problems on a Real Quantum Hardware"
   ]
  },
  {
   "cell_type": "code",
   "execution_count": null,
   "id": "c6de38fc",
   "metadata": {},
   "outputs": [],
   "source": [
    "# Results from running all sub-problems on eight different IBM machines are also included \n",
    "\n",
    "FQ_real_filename_i=f'{FQ_path}{machine_name}/{FQ_id}.pkl'\n",
    "FQ_real_obj_i=load_pickle(FQ_real_filename_i)\n",
    "#FQ_real_obj_iis a dict object \n",
    "\n",
    "print('Machine:', machine_name)\n",
    "print(f'EV_best ({machine_name})=', FQ_real_obj_i['EV_best'])\n",
    "print(f'Approximation Ratio ({machine_name})=', FQ_real_obj_i['EV_best']/FQ_real_obj_i['cost_best'])"
   ]
  },
  {
   "attachments": {},
   "cell_type": "markdown",
   "id": "16132cb0",
   "metadata": {},
   "source": [
    "## Comparing Results"
   ]
  },
  {
   "cell_type": "code",
   "execution_count": null,
   "id": "a8043f83",
   "metadata": {},
   "outputs": [],
   "source": [
    "print('Benchmark Type:', benchmark_type)\n",
    "print('Number of problem variables:', n)\n",
    "print(f'k={k} (for SK model, k is ignored)')\n",
    "\n",
    "print()\n",
    "print('Baseline (standard QAOA)')\n",
    "print(f'\\t EV (ideal):', qaoa_ideal_obj['EV_best'])\n",
    "print(f'\\t EV ({machine_name}):', qaoa_real_obj['EV_best'])\n",
    "print(f'\\t AR (ideal):', qaoa_ideal_obj['EV_best']/qaoa_ideal_obj['cost_best'])\n",
    "print(f'\\t AR ({machine_name}):', qaoa_real_obj['EV_best']/qaoa_ideal_obj['cost_best'])\n",
    "\n",
    "print('--------------------------------')\n",
    "print(f'FrozenQubits (m={m})')\n",
    "for sub_index in range(2**m):\n",
    "    print(f'  sub-problem ', sub_index)\n",
    "    FQ_id=get_benchmark_id(benchmark_type, n=n, k=k)+f'^M={m}_{sub_index}^P={num_layers}'\n",
    "    FQ_ideal_filename_i=f'{FQ_path}ideal/{FQ_id}.pkl'\n",
    "    FQ_ideal_obj_i=load_pickle(FQ_ideal_filename_i)\n",
    "    FQ_real_filename_i=f'{FQ_path}{machine_name}/{FQ_id}.pkl'\n",
    "    FQ_real_obj_i=load_pickle(FQ_real_filename_i)\n",
    "    print(f'\\t EV (ideal):', FQ_ideal_obj_i['EV_best'])\n",
    "    print(f'\\t EV ({machine_name}):', FQ_real_obj_i['EV_best'])\n",
    "    print(f'\\t AR (ideal):', FQ_ideal_obj_i['EV_best']/FQ_ideal_obj_i['cost_best'])\n",
    "    print(f'\\t AR ({machine_name}):', FQ_real_obj_i['EV_best']/FQ_real_obj_i['cost_best'])\n",
    "    "
   ]
  },
  {
   "attachments": {},
   "cell_type": "markdown",
   "id": "42cce323",
   "metadata": {},
   "source": [
    "## Evaluating 2-regular Graphs\n",
    "first we have to create a random 2-regular circuit with number of qubits between {4, 24} graph and then apllying the FrozenQubit of the newly created graph and as last step we compare the result\n"
   ]
  },
  {
   "cell_type": "code",
   "execution_count": 45,
   "id": "4c180d3f",
   "metadata": {
    "ExecuteTime": {
     "end_time": "2023-06-20T16:46:38.261476Z",
     "start_time": "2023-06-20T16:46:38.137345Z"
    }
   },
   "outputs": [
    {
     "name": "stdout",
     "output_type": "stream",
     "text": [
      "running 8 trials\n",
      "comparing average result on all circuits with n = number of qubits, m_0 = FQ(m = 0), m_1 = FQ(m = 1), m_2 = FQ(m = 2)\n",
      "\n",
      "\u001b[32mn, m_0, m_1, m_2\n",
      "\u001b[36m\n",
      "4, 8.0, 4.0, 0.0\n",
      "5, 10.0, 6.0, 2.0\n",
      "6, 12.0, 8.0, 4.0\n",
      "7, 14.0, 10.0, 6.0\n",
      "8, 16.0, 12.0, 8.0\n",
      "9, 18.0, 14.0, 10.0\n",
      "10, 20.0, 16.0, 12.0\n",
      "11, 22.0, 18.0, 14.0\n",
      "12, 24.0, 20.0, 16.0\n",
      "13, 26.0, 22.0, 18.0\n",
      "14, 28.0, 24.0, 20.0\n",
      "15, 30.0, 26.0, 22.0\n",
      "16, 32.0, 28.0, 24.0\n",
      "17, 34.0, 30.0, 26.0\n",
      "18, 36.0, 32.0, 28.0\n",
      "19, 38.0, 34.0, 30.0\n",
      "20, 40.0, 36.0, 32.0\n",
      "21, 42.0, 38.0, 34.0\n",
      "22, 44.0, 40.0, 36.0\n",
      "23, 46.0, 42.0, 38.0\n",
      "24, 48.0, 44.0, 40.0\n"
     ]
    }
   ],
   "source": [
    "n = random.randint(4, 10)\n",
    "\n",
    "print(\"running\", n, \"trials\")\n",
    "\n",
    "# running trials and getting CNOTs difference for all [4..24] circuits\n",
    "results_2_regular = run_average_2_regular(n)\n",
    "\n",
    "averages_2_regular = average_results(results_2_regular)\n",
    "print(\"comparing average result on all circuits with n = number of qubits, m_0 = FQ(m = 0), m_1 = FQ(m = 1), m_2 = FQ(m = 2)\\n\")\n",
    "\n",
    "# coloring can be removed\n",
    "print(Fore.GREEN + \"n, m_0, m_1, m_2\")\n",
    "print(Fore.CYAN)\n",
    "\n",
    "\n",
    "print_matrix_as_csv(averages_2_regular)"
   ]
  },
  {
   "attachments": {},
   "cell_type": "markdown",
   "id": "38e77795",
   "metadata": {},
   "source": [
    "## Comparing relative CNOTs count"
   ]
  },
  {
   "cell_type": "code",
   "execution_count": 44,
   "id": "226af205",
   "metadata": {},
   "outputs": [
    {
     "name": "stdout",
     "output_type": "stream",
     "text": [
      "printing relative CNOTs copyrison with n = number of qubits, m_0 = FQ(m = 0), m_1 = FQ(m = 1), m_2 = FQ(m = 2)\n",
      "\n",
      "\u001b[32mn, m_0, m_1, m_2\n",
      "\u001b[36m\n",
      "4, 1.0, 0.5, 0.0\n",
      "5, 1.0, 0.6, 0.2\n",
      "6, 1.0, 0.6666666666666666, 0.3333333333333333\n",
      "7, 1.0, 0.7142857142857143, 0.42857142857142855\n",
      "8, 1.0, 0.75, 0.5\n",
      "9, 1.0, 0.7777777777777778, 0.5555555555555556\n",
      "10, 1.0, 0.8, 0.6\n",
      "11, 1.0, 0.8181818181818182, 0.6363636363636364\n",
      "12, 1.0, 0.8333333333333334, 0.6666666666666666\n",
      "13, 1.0, 0.8461538461538461, 0.6923076923076923\n",
      "14, 1.0, 0.8571428571428571, 0.7142857142857143\n",
      "15, 1.0, 0.8666666666666667, 0.7333333333333333\n",
      "16, 1.0, 0.875, 0.75\n",
      "17, 1.0, 0.8823529411764706, 0.7647058823529411\n",
      "18, 1.0, 0.8888888888888888, 0.7777777777777778\n",
      "19, 1.0, 0.8947368421052632, 0.7894736842105263\n",
      "20, 1.0, 0.9, 0.8\n",
      "21, 1.0, 0.9047619047619048, 0.8095238095238095\n",
      "22, 1.0, 0.9090909090909091, 0.8181818181818182\n",
      "23, 1.0, 0.9130434782608695, 0.8260869565217391\n",
      "24, 1.0, 0.9166666666666666, 0.8333333333333334\n"
     ]
    }
   ],
   "source": [
    "print(\"printing relative CNOTs copyrison with n = number of qubits, m_0 = FQ(m = 0), m_1 = FQ(m = 1), m_2 = FQ(m = 2)\\n\")\n",
    "\n",
    "# coloring can be removed\n",
    "print(Fore.GREEN + \"n, m_0, m_1, m_2\")\n",
    "print(Fore.CYAN)\n",
    "\n",
    "print_matrix_as_csv(matrix_to_relative(averages_2_regular))"
   ]
  },
  {
   "attachments": {},
   "cell_type": "markdown",
   "id": "1892e719",
   "metadata": {},
   "source": [
    "## Evaluating RGCG Graphs\n",
    "first we have to create a RGCG circuit with number of qubits between {4, 24} graph and then apllying the FrozenQubit of the newly created graph and as last step we compare the result\n"
   ]
  },
  {
   "cell_type": "code",
   "execution_count": 49,
   "id": "7578ac3e",
   "metadata": {},
   "outputs": [
    {
     "name": "stdout",
     "output_type": "stream",
     "text": [
      "running 9 trials\n",
      "comparing average result on all circuits with n = number of qubits, m_0 = FQ(m = 0), m_1 = FQ(m = 1), m_2 = FQ(m = 2)\n",
      "\n",
      "\u001b[32mn, m_0, m_1, m_2\n",
      "\u001b[36m\n",
      "4, 6.0, 1.7777777777777777, 0.0\n",
      "5, 8.0, 3.5555555555555554, 0.4444444444444444\n",
      "6, 10.0, 4.444444444444445, 1.5555555555555556\n",
      "7, 12.0, 6.0, 2.2222222222222223\n",
      "8, 14.0, 7.333333333333333, 3.5555555555555554\n",
      "9, 16.0, 9.11111111111111, 4.888888888888889\n",
      "10, 18.0, 10.666666666666666, 6.0\n",
      "11, 20.0, 12.666666666666666, 7.555555555555555\n",
      "12, 22.0, 14.88888888888889, 9.11111111111111\n",
      "13, 24.0, 16.0, 10.444444444444445\n",
      "14, 26.0, 19.11111111111111, 13.11111111111111\n",
      "15, 28.0, 20.666666666666668, 14.666666666666666\n",
      "16, 30.0, 22.22222222222222, 15.555555555555555\n",
      "17, 32.0, 24.22222222222222, 18.22222222222222\n",
      "18, 34.0, 25.77777777777778, 19.333333333333332\n",
      "19, 36.0, 28.0, 21.555555555555557\n",
      "20, 38.0, 30.88888888888889, 24.88888888888889\n",
      "21, 40.0, 31.555555555555557, 25.11111111111111\n",
      "22, 42.0, 32.888888888888886, 26.0\n",
      "23, 44.0, 36.666666666666664, 30.0\n",
      "24, 46.0, 36.666666666666664, 29.333333333333332\n"
     ]
    }
   ],
   "source": [
    "n = random.randint(4, 10)\n",
    "\n",
    "print(\"running\", n, \"trials\")\n",
    "\n",
    "# running trials and getting CNOTs difference for all [4..24] circuits with out any additional edges\n",
    "results_random = run_average_random(n, 0)\n",
    "averages_random = average_results(results_random)\n",
    "\n",
    "print(\"comparing average result on all circuits with n = number of qubits, m_0 = FQ(m = 0), m_1 = FQ(m = 1), m_2 = FQ(m = 2)\\n\")\n",
    "print(Fore.GREEN + \"n, m_0, m_1, m_2\")\n",
    "print(Fore.CYAN)\n",
    "\n",
    "print_matrix_as_csv(averages_random)"
   ]
  },
  {
   "attachments": {},
   "cell_type": "markdown",
   "id": "a25022c6",
   "metadata": {},
   "source": [
    "## Comparing relative CNOTs count"
   ]
  },
  {
   "cell_type": "code",
   "execution_count": 50,
   "id": "f6101ae3",
   "metadata": {},
   "outputs": [
    {
     "name": "stdout",
     "output_type": "stream",
     "text": [
      "printing relative CNOTs copyrison with n = number of qubits, m_0 = FQ(m = 0), m_1 = FQ(m = 1), m_2 = FQ(m = 2)\n",
      "\n",
      "\u001b[32mn, m_0, m_1, m_2\n",
      "\u001b[36m\n",
      "4, 1.0, 0.2962962962962963, 0.0\n",
      "5, 1.0, 0.4444444444444444, 0.05555555555555555\n",
      "6, 1.0, 0.4444444444444445, 0.15555555555555556\n",
      "7, 1.0, 0.5, 0.1851851851851852\n",
      "8, 1.0, 0.5238095238095238, 0.25396825396825395\n",
      "9, 1.0, 0.5694444444444444, 0.3055555555555556\n",
      "10, 1.0, 0.5925925925925926, 0.3333333333333333\n",
      "11, 1.0, 0.6333333333333333, 0.37777777777777777\n",
      "12, 1.0, 0.6767676767676768, 0.41414141414141414\n",
      "13, 1.0, 0.6666666666666666, 0.4351851851851852\n",
      "14, 1.0, 0.735042735042735, 0.5042735042735043\n",
      "15, 1.0, 0.7380952380952381, 0.5238095238095238\n",
      "16, 1.0, 0.7407407407407407, 0.5185185185185185\n",
      "17, 1.0, 0.7569444444444444, 0.5694444444444444\n",
      "18, 1.0, 0.7581699346405228, 0.5686274509803921\n",
      "19, 1.0, 0.7777777777777778, 0.5987654320987654\n",
      "20, 1.0, 0.8128654970760234, 0.6549707602339181\n",
      "21, 1.0, 0.788888888888889, 0.6277777777777778\n",
      "22, 1.0, 0.783068783068783, 0.6190476190476191\n",
      "23, 1.0, 0.8333333333333333, 0.6818181818181818\n",
      "24, 1.0, 0.7971014492753623, 0.6376811594202898\n"
     ]
    }
   ],
   "source": [
    "print(\"printing relative CNOTs copyrison with n = number of qubits, m_0 = FQ(m = 0), m_1 = FQ(m = 1), m_2 = FQ(m = 2)\\n\")\n",
    "\n",
    "# coloring can be removed\n",
    "print(Fore.GREEN + \"n, m_0, m_1, m_2\")\n",
    "print(Fore.CYAN)\n",
    "\n",
    "\n",
    "print_matrix_as_csv(matrix_to_relative(averages_random))"
   ]
  },
  {
   "attachments": {},
   "cell_type": "markdown",
   "id": "3f391c9b",
   "metadata": {},
   "source": [
    "## Conclusion\n",
    "FrozenQubits was introduced as an application-level software framework to improve the fidelity of Quantum Approximation Optimization Algorithm (QAOA), it works by freezing a qubit or more by substituting the two possibilities in the problem, which partitions the state-space of the problem into smaller sub-spaces. multiple strategies were developed to subside the problem of running the newly created sub-problems individually, such as using the symmetry of the created sub-circuits. In this paper we discussed the impact of FrozenQubits on sparser circuits with lower average connectivity degrees than the ones discussed in the original paper. We discussed the impact of FrozenQubits on sparser circuits on the number of CNOTs. Overall the method produces significantly worse results than with power-law type graphs leading to minor improvements in fidelity at the cost of computational overhead. "
   ]
  }
 ],
 "metadata": {
  "kernelspec": {
   "display_name": "Python 3 (ipykernel)",
   "language": "python",
   "name": "python3"
  },
  "language_info": {
   "codemirror_mode": {
    "name": "ipython",
    "version": 3
   },
   "file_extension": ".py",
   "mimetype": "text/x-python",
   "name": "python",
   "nbconvert_exporter": "python",
   "pygments_lexer": "ipython3",
   "version": "3.9.2"
  },
  "vscode": {
   "interpreter": {
    "hash": "09d241a72caf352d4b051b510cdbcbd57841055e488ebb3a05701410d0685b3c"
   }
  }
 },
 "nbformat": 4,
 "nbformat_minor": 5
}
